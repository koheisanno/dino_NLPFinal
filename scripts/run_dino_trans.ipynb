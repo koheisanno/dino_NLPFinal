{
  "cells": [
    {
      "cell_type": "code",
      "execution_count": 2,
      "metadata": {
        "colab": {
          "base_uri": "https://localhost:8080/"
        },
        "id": "aIBWTQ3H-zxu",
        "outputId": "e5d08827-07c0-46fa-ec01-fc4790089561"
      },
      "outputs": [
        {
          "name": "stdout",
          "output_type": "stream",
          "text": [
            "Cloning into 'dino_NLPFinal'...\n",
            "remote: Enumerating objects: 124, done.\u001b[K\n",
            "remote: Counting objects: 100% (64/64), done.\u001b[K\n",
            "remote: Compressing objects: 100% (38/38), done.\u001b[K\n",
            "remote: Total 124 (delta 36), reused 39 (delta 25), pack-reused 60\u001b[K\n",
            "Receiving objects: 100% (124/124), 89.54 KiB | 1.38 MiB/s, done.\n",
            "Resolving deltas: 100% (50/50), done.\n"
          ]
        }
      ],
      "source": [
        "!git clone https://github.com/koheisanno/dino_NLPFinal.git"
      ]
    },
    {
      "cell_type": "code",
      "execution_count": 3,
      "metadata": {
        "colab": {
          "base_uri": "https://localhost:8080/"
        },
        "id": "-HG_osqlZ336",
        "outputId": "cd71a464-ce5c-4a3f-9a69-80e529c92b9c"
      },
      "outputs": [
        {
          "name": "stdout",
          "output_type": "stream",
          "text": [
            "Wed May  1 02:12:57 2024       \n",
            "+---------------------------------------------------------------------------------------+\n",
            "| NVIDIA-SMI 535.104.05             Driver Version: 535.104.05   CUDA Version: 12.2     |\n",
            "|-----------------------------------------+----------------------+----------------------+\n",
            "| GPU  Name                 Persistence-M | Bus-Id        Disp.A | Volatile Uncorr. ECC |\n",
            "| Fan  Temp   Perf          Pwr:Usage/Cap |         Memory-Usage | GPU-Util  Compute M. |\n",
            "|                                         |                      |               MIG M. |\n",
            "|=========================================+======================+======================|\n",
            "|   0  NVIDIA L4                      Off | 00000000:00:03.0 Off |                    0 |\n",
            "| N/A   32C    P8              11W /  72W |      1MiB / 23034MiB |      0%      Default |\n",
            "|                                         |                      |                  N/A |\n",
            "+-----------------------------------------+----------------------+----------------------+\n",
            "                                                                                         \n",
            "+---------------------------------------------------------------------------------------+\n",
            "| Processes:                                                                            |\n",
            "|  GPU   GI   CI        PID   Type   Process name                            GPU Memory |\n",
            "|        ID   ID                                                             Usage      |\n",
            "|=======================================================================================|\n",
            "|  No running processes found                                                           |\n",
            "+---------------------------------------------------------------------------------------+\n"
          ]
        }
      ],
      "source": [
        "!nvidia-smi"
      ]
    },
    {
      "cell_type": "code",
      "execution_count": 7,
      "metadata": {
        "colab": {
          "base_uri": "https://localhost:8080/"
        },
        "id": "NNbsBALH-4JT",
        "outputId": "2afa628c-f35d-4147-e21c-22961ab10f46"
      },
      "outputs": [
        {
          "name": "stderr",
          "output_type": "stream",
          "text": [
            "'pwd' is not recognized as an internal or external command,\n",
            "operable program or batch file.\n"
          ]
        }
      ],
      "source": [
        "!pwd"
      ]
    },
    {
      "cell_type": "code",
      "execution_count": 5,
      "metadata": {
        "colab": {
          "base_uri": "https://localhost:8080/"
        },
        "id": "zPC7KzFh-_ev",
        "outputId": "8bed9566-240a-42c3-cb92-dff2dc693666"
      },
      "outputs": [
        {
          "name": "stdout",
          "output_type": "stream",
          "text": [
            "[WinError 2] The system cannot find the file specified: 'dino_NLPFinal/'\n",
            "d:\\Princeton\\Junior\\COS 484\\dino_NLPFinal\\scripts\n"
          ]
        }
      ],
      "source": [
        "%cd dino_NLPFinal/"
      ]
    },
    {
      "cell_type": "code",
      "execution_count": 6,
      "metadata": {},
      "outputs": [
        {
          "name": "stdout",
          "output_type": "stream",
          "text": [
            "d:\\Princeton\\Junior\\COS 484\\dino_NLPFinal\n"
          ]
        }
      ],
      "source": [
        "%cd .."
      ]
    },
    {
      "cell_type": "code",
      "execution_count": 12,
      "metadata": {
        "colab": {
          "base_uri": "https://localhost:8080/"
        },
        "id": "taZ4s5WM_CYD",
        "outputId": "6404aceb-30a2-412a-e326-57d40f885726"
      },
      "outputs": [
        {
          "name": "stdout",
          "output_type": "stream",
          "text": [
            "remote: Enumerating objects: 5, done.\u001b[K\n",
            "remote: Counting objects:  20% (1/5)\u001b[K\rremote: Counting objects:  40% (2/5)\u001b[K\rremote: Counting objects:  60% (3/5)\u001b[K\rremote: Counting objects:  80% (4/5)\u001b[K\rremote: Counting objects: 100% (5/5)\u001b[K\rremote: Counting objects: 100% (5/5), done.\u001b[K\n",
            "remote: Compressing objects: 100% (1/1)\u001b[K\rremote: Compressing objects: 100% (1/1), done.\u001b[K\n",
            "remote: Total 3 (delta 2), reused 3 (delta 2), pack-reused 0\u001b[K\n",
            "Unpacking objects:  33% (1/3)\rUnpacking objects:  66% (2/3)\rUnpacking objects: 100% (3/3)\rUnpacking objects: 100% (3/3), 385 bytes | 385.00 KiB/s, done.\n",
            "From https://github.com/koheisanno/dino_NLPFinal\n",
            " * branch            HEAD       -> FETCH_HEAD\n",
            "Updating d826305..0b0d635\n",
            "Fast-forward\n",
            " dino.py | 12 \u001b[32m++++++++++\u001b[m\u001b[31m--\u001b[m\n",
            " 1 file changed, 10 insertions(+), 2 deletions(-)\n"
          ]
        }
      ],
      "source": [
        "!git pull https://github.com/koheisanno/dino_NLPFinal.git"
      ]
    },
    {
      "cell_type": "code",
      "execution_count": 8,
      "metadata": {
        "colab": {
          "base_uri": "https://localhost:8080/",
          "height": 1000
        },
        "id": "8OKaKz4L_FdX",
        "outputId": "c8e1a5c4-4257-4c91-d9b3-25c37d33c87c"
      },
      "outputs": [
        {
          "name": "stdout",
          "output_type": "stream",
          "text": [
            "Collecting datasets==2.19.0\n",
            "  Downloading datasets-2.19.0-py3-none-any.whl (542 kB)\n",
            "Collecting numpy==1.24.4\n",
            "  Downloading numpy-1.24.4-cp38-cp38-win_amd64.whl (14.9 MB)\n",
            "Collecting openai==1.23.2\n",
            "  Downloading openai-1.23.2-py3-none-any.whl (311 kB)\n",
            "Collecting python-dotenv==1.0.1\n",
            "  Downloading python_dotenv-1.0.1-py3-none-any.whl (19 kB)\n",
            "Collecting scikit-learn==1.3.2\n",
            "  Downloading scikit_learn-1.3.2-cp38-cp38-win_amd64.whl (9.3 MB)\n",
            "Collecting scipy==1.10.1\n",
            "  Downloading scipy-1.10.1-cp38-cp38-win_amd64.whl (42.2 MB)\n",
            "Collecting sentence-transformers==2.7.0\n",
            "  Downloading sentence_transformers-2.7.0-py3-none-any.whl (171 kB)\n",
            "Collecting torch==2.2.2\n",
            "  Downloading torch-2.2.2-cp38-cp38-win_amd64.whl (198.6 MB)\n",
            "Collecting torchvision==0.17.2\n",
            "  Downloading torchvision-0.17.2-cp38-cp38-win_amd64.whl (1.2 MB)\n",
            "Collecting tqdm==4.66.2\n",
            "  Downloading tqdm-4.66.2-py3-none-any.whl (78 kB)\n",
            "Collecting transformers==4.40.0\n",
            "  Downloading transformers-4.40.0-py3-none-any.whl (9.0 MB)\n",
            "Requirement already satisfied: filelock in c:\\users\\ferna\\anaconda3\\lib\\site-packages (from datasets==2.19.0->-r requirements3.txt (line 1)) (3.0.12)\n",
            "Collecting pyarrow>=12.0.0\n",
            "  Downloading pyarrow-16.0.0-cp38-cp38-win_amd64.whl (25.9 MB)\n",
            "Requirement already satisfied: pyyaml>=5.1 in c:\\users\\ferna\\anaconda3\\lib\\site-packages (from datasets==2.19.0->-r requirements3.txt (line 1)) (5.3.1)\n",
            "Collecting xxhash\n",
            "  Downloading xxhash-3.4.1-cp38-cp38-win_amd64.whl (29 kB)\n",
            "Collecting huggingface-hub>=0.21.2\n",
            "  Downloading huggingface_hub-0.22.2-py3-none-any.whl (388 kB)\n",
            "Collecting dill<0.3.9,>=0.3.0\n",
            "  Downloading dill-0.3.8-py3-none-any.whl (116 kB)\n",
            "Requirement already satisfied: requests>=2.19.0 in c:\\users\\ferna\\anaconda3\\lib\\site-packages (from datasets==2.19.0->-r requirements3.txt (line 1)) (2.24.0)\n",
            "Collecting fsspec[http]<=2024.3.1,>=2023.1.0\n",
            "  Downloading fsspec-2024.3.1-py3-none-any.whl (171 kB)\n",
            "Requirement already satisfied: packaging in c:\\users\\ferna\\anaconda3\\lib\\site-packages (from datasets==2.19.0->-r requirements3.txt (line 1)) (20.4)\n",
            "Requirement already satisfied: aiohttp in c:\\users\\ferna\\anaconda3\\lib\\site-packages (from datasets==2.19.0->-r requirements3.txt (line 1)) (3.7.4)\n",
            "Collecting pyarrow-hotfix\n",
            "  Downloading pyarrow_hotfix-0.6-py3-none-any.whl (7.9 kB)\n",
            "Collecting multiprocess\n",
            "  Downloading multiprocess-0.70.16-py38-none-any.whl (132 kB)\n",
            "Requirement already satisfied: pandas in c:\\users\\ferna\\anaconda3\\lib\\site-packages (from datasets==2.19.0->-r requirements3.txt (line 1)) (1.1.3)\n",
            "Collecting pydantic<3,>=1.9.0\n",
            "  Downloading pydantic-2.7.1-py3-none-any.whl (409 kB)\n",
            "Collecting anyio<5,>=3.5.0\n",
            "  Downloading anyio-4.3.0-py3-none-any.whl (85 kB)\n",
            "Collecting distro<2,>=1.7.0\n",
            "  Downloading distro-1.9.0-py3-none-any.whl (20 kB)\n",
            "Collecting sniffio\n",
            "  Downloading sniffio-1.3.1-py3-none-any.whl (10 kB)\n",
            "Collecting typing-extensions<5,>=4.7\n",
            "  Downloading typing_extensions-4.11.0-py3-none-any.whl (34 kB)\n",
            "Collecting httpx<1,>=0.23.0\n",
            "  Downloading httpx-0.27.0-py3-none-any.whl (75 kB)\n",
            "Collecting joblib>=1.1.1\n",
            "  Downloading joblib-1.4.0-py3-none-any.whl (301 kB)\n",
            "Requirement already satisfied: threadpoolctl>=2.0.0 in c:\\users\\ferna\\anaconda3\\lib\\site-packages (from scikit-learn==1.3.2->-r requirements3.txt (line 5)) (2.1.0)\n",
            "Requirement already satisfied: Pillow in c:\\users\\ferna\\anaconda3\\lib\\site-packages (from sentence-transformers==2.7.0->-r requirements3.txt (line 7)) (8.0.1)\n",
            "Requirement already satisfied: sympy in c:\\users\\ferna\\anaconda3\\lib\\site-packages (from torch==2.2.2->-r requirements3.txt (line 8)) (1.6.2)\n",
            "Requirement already satisfied: jinja2 in c:\\users\\ferna\\anaconda3\\lib\\site-packages (from torch==2.2.2->-r requirements3.txt (line 8)) (2.11.2)\n",
            "Requirement already satisfied: networkx in c:\\users\\ferna\\anaconda3\\lib\\site-packages (from torch==2.2.2->-r requirements3.txt (line 8)) (2.5)\n",
            "Requirement already satisfied: colorama; platform_system == \"Windows\" in c:\\users\\ferna\\anaconda3\\lib\\site-packages (from tqdm==4.66.2->-r requirements3.txt (line 10)) (0.4.4)\n",
            "Requirement already satisfied: regex!=2019.12.17 in c:\\users\\ferna\\anaconda3\\lib\\site-packages (from transformers==4.40.0->-r requirements3.txt (line 11)) (2020.10.15)\n",
            "Collecting safetensors>=0.4.1\n",
            "  Downloading safetensors-0.4.3-cp38-none-win_amd64.whl (286 kB)\n",
            "Collecting tokenizers<0.20,>=0.19\n",
            "  Downloading tokenizers-0.19.1-cp38-none-win_amd64.whl (2.2 MB)\n",
            "Requirement already satisfied: certifi>=2017.4.17 in c:\\users\\ferna\\anaconda3\\lib\\site-packages (from requests>=2.19.0->datasets==2.19.0->-r requirements3.txt (line 1)) (2020.6.20)\n"
          ]
        },
        {
          "name": "stderr",
          "output_type": "stream",
          "text": [
            "ERROR: After October 2020 you may experience errors when installing or updating packages. This is because pip will change the way that it resolves dependency conflicts.\n",
            "\n",
            "We recommend you use --use-feature=2020-resolver to test your packages with the new resolver before it becomes the default.\n",
            "\n",
            "huggingface-hub 0.22.2 requires packaging>=20.9, but you'll have packaging 20.4 which is incompatible.\n"
          ]
        },
        {
          "name": "stdout",
          "output_type": "stream",
          "text": [
            "Requirement already satisfied: chardet<4,>=3.0.2 in c:\\users\\ferna\\anaconda3\\lib\\site-packages (from requests>=2.19.0->datasets==2.19.0->-r requirements3.txt (line 1)) (3.0.4)\n",
            "Requirement already satisfied: urllib3!=1.25.0,!=1.25.1,<1.26,>=1.21.1 in c:\\users\\ferna\\anaconda3\\lib\\site-packages (from requests>=2.19.0->datasets==2.19.0->-r requirements3.txt (line 1)) (1.25.11)\n",
            "Requirement already satisfied: idna<3,>=2.5 in c:\\users\\ferna\\anaconda3\\lib\\site-packages (from requests>=2.19.0->datasets==2.19.0->-r requirements3.txt (line 1)) (2.10)\n",
            "Requirement already satisfied: pyparsing>=2.0.2 in c:\\users\\ferna\\anaconda3\\lib\\site-packages (from packaging->datasets==2.19.0->-r requirements3.txt (line 1)) (2.4.7)\n",
            "Requirement already satisfied: six in c:\\users\\ferna\\anaconda3\\lib\\site-packages (from packaging->datasets==2.19.0->-r requirements3.txt (line 1)) (1.15.0)\n",
            "Requirement already satisfied: attrs>=17.3.0 in c:\\users\\ferna\\anaconda3\\lib\\site-packages (from aiohttp->datasets==2.19.0->-r requirements3.txt (line 1)) (20.3.0)\n",
            "Requirement already satisfied: multidict<7.0,>=4.5 in c:\\users\\ferna\\anaconda3\\lib\\site-packages (from aiohttp->datasets==2.19.0->-r requirements3.txt (line 1)) (5.1.0)\n",
            "Requirement already satisfied: async-timeout<4.0,>=3.0 in c:\\users\\ferna\\anaconda3\\lib\\site-packages (from aiohttp->datasets==2.19.0->-r requirements3.txt (line 1)) (3.0.1)\n",
            "Requirement already satisfied: yarl<2.0,>=1.0 in c:\\users\\ferna\\anaconda3\\lib\\site-packages (from aiohttp->datasets==2.19.0->-r requirements3.txt (line 1)) (1.6.3)\n",
            "Requirement already satisfied: python-dateutil>=2.7.3 in c:\\users\\ferna\\anaconda3\\lib\\site-packages (from pandas->datasets==2.19.0->-r requirements3.txt (line 1)) (2.8.1)\n",
            "Requirement already satisfied: pytz>=2017.2 in c:\\users\\ferna\\anaconda3\\lib\\site-packages (from pandas->datasets==2.19.0->-r requirements3.txt (line 1)) (2020.1)\n",
            "Collecting pydantic-core==2.18.2\n",
            "  Downloading pydantic_core-2.18.2-cp38-none-win_amd64.whl (1.9 MB)\n",
            "Collecting annotated-types>=0.4.0\n",
            "  Downloading annotated_types-0.6.0-py3-none-any.whl (12 kB)\n",
            "Collecting exceptiongroup>=1.0.2; python_version < \"3.11\"\n",
            "  Downloading exceptiongroup-1.2.1-py3-none-any.whl (16 kB)\n",
            "Collecting httpcore==1.*\n",
            "  Downloading httpcore-1.0.5-py3-none-any.whl (77 kB)\n",
            "Requirement already satisfied: mpmath>=0.19 in c:\\users\\ferna\\anaconda3\\lib\\site-packages (from sympy->torch==2.2.2->-r requirements3.txt (line 8)) (1.1.0)\n",
            "Requirement already satisfied: MarkupSafe>=0.23 in c:\\users\\ferna\\anaconda3\\lib\\site-packages (from jinja2->torch==2.2.2->-r requirements3.txt (line 8)) (1.1.1)\n",
            "Requirement already satisfied: decorator>=4.3.0 in c:\\users\\ferna\\anaconda3\\lib\\site-packages (from networkx->torch==2.2.2->-r requirements3.txt (line 8)) (4.4.2)\n",
            "Collecting h11<0.15,>=0.13\n",
            "  Using cached h11-0.14.0-py3-none-any.whl (58 kB)\n",
            "Installing collected packages: numpy, pyarrow, xxhash, tqdm, fsspec, typing-extensions, huggingface-hub, dill, pyarrow-hotfix, multiprocess, datasets, pydantic-core, annotated-types, pydantic, exceptiongroup, sniffio, anyio, distro, h11, httpcore, httpx, openai, python-dotenv, scipy, joblib, scikit-learn, safetensors, tokenizers, transformers, torch, sentence-transformers, torchvision\n",
            "  Attempting uninstall: numpy\n",
            "    Found existing installation: numpy 1.19.2\n",
            "    Uninstalling numpy-1.19.2:\n",
            "      Successfully uninstalled numpy-1.19.2\n",
            "  Attempting uninstall: tqdm\n",
            "    Found existing installation: tqdm 4.50.2\n",
            "    Uninstalling tqdm-4.50.2:\n",
            "      Successfully uninstalled tqdm-4.50.2\n",
            "  Attempting uninstall: fsspec\n",
            "    Found existing installation: fsspec 0.8.3\n",
            "    Uninstalling fsspec-0.8.3:\n",
            "      Successfully uninstalled fsspec-0.8.3\n",
            "  Attempting uninstall: typing-extensions\n",
            "    Found existing installation: typing-extensions 3.7.4.3\n",
            "    Uninstalling typing-extensions-3.7.4.3:\n",
            "      Successfully uninstalled typing-extensions-3.7.4.3\n",
            "  Attempting uninstall: scipy\n",
            "    Found existing installation: scipy 1.5.2\n",
            "    Uninstalling scipy-1.5.2:\n",
            "      Successfully uninstalled scipy-1.5.2\n",
            "  Attempting uninstall: joblib\n",
            "    Found existing installation: joblib 0.17.0\n",
            "    Uninstalling joblib-0.17.0:\n",
            "      Successfully uninstalled joblib-0.17.0\n",
            "  Attempting uninstall: scikit-learn\n",
            "    Found existing installation: scikit-learn 0.23.2\n",
            "    Uninstalling scikit-learn-0.23.2:\n",
            "      Successfully uninstalled scikit-learn-0.23.2\n",
            "Successfully installed annotated-types-0.6.0 anyio-4.3.0 datasets-2.19.0 dill-0.3.8 distro-1.9.0 exceptiongroup-1.2.1 fsspec-2024.3.1 h11-0.14.0 httpcore-1.0.5 httpx-0.27.0 huggingface-hub-0.22.2 joblib-1.4.0 multiprocess-0.70.16 numpy-1.24.4 openai-1.23.2 pyarrow-16.0.0 pyarrow-hotfix-0.6 pydantic-2.7.1 pydantic-core-2.18.2 python-dotenv-1.0.1 safetensors-0.4.3 scikit-learn-1.3.2 scipy-1.10.1 sentence-transformers-2.7.0 sniffio-1.3.1 tokenizers-0.19.1 torch-2.2.2 torchvision-0.17.2 tqdm-4.66.2 transformers-4.40.0 typing-extensions-4.11.0 xxhash-3.4.1\n"
          ]
        }
      ],
      "source": [
        "!pip install -r requirements3.txt"
      ]
    },
    {
      "cell_type": "code",
      "execution_count": 9,
      "metadata": {
        "colab": {
          "base_uri": "https://localhost:8080/"
        },
        "id": "d7SCeMEX9PA1",
        "outputId": "210abde5-5771-405c-806e-1df0245497c4"
      },
      "outputs": [
        {
          "name": "stdout",
          "output_type": "stream",
          "text": [
            "Requirement already satisfied: python-dotenv==1.0.1 in c:\\users\\ferna\\anaconda3\\lib\\site-packages (1.0.1)\n",
            "Note: you may need to restart the kernel to use updated packages.\n"
          ]
        }
      ],
      "source": [
        "%pip install python-dotenv==1.0.1"
      ]
    },
    {
      "cell_type": "code",
      "execution_count": 10,
      "metadata": {
        "id": "sKf9ImQH9Wn_"
      },
      "outputs": [],
      "source": [
        "from google.colab import userdata\n",
        "openai_api_key = userdata.get('OPENAI_API_KEY')\n",
        "import os  \n",
        "os.environ[\"OPENAI_API_KEY\"]=openai_api_key\n"
      ]
    },
    {
      "cell_type": "markdown",
      "metadata": {
        "id": "oDto3CAc-vr3"
      },
      "source": [
        "# Trans-STS dataset creation with conditioning"
      ]
    },
    {
      "cell_type": "markdown",
      "metadata": {
        "id": "MUnXs4aJ-7-g"
      },
      "source": [
        "Create x1 sentences (15,000 sentences)"
      ]
    },
    {
      "cell_type": "code",
      "execution_count": 12,
      "metadata": {
        "colab": {
          "base_uri": "https://localhost:8080/"
        },
        "id": "Bk5kgm3rB8e6",
        "outputId": "8e26832d-5539-4aa1-9860-7d840074bf95"
      },
      "outputs": [
        {
          "name": "stderr",
          "output_type": "stream",
          "text": [
            "\n",
            "Dataset Entries:   0%|          | 0/373 [00:00<?, ?it/s]\n",
            "Dataset Entries:   0%|          | 1/373 [00:52<5:27:36, 52.84s/it]\n",
            "Dataset Entries:   1%|          | 2/373 [01:57<6:08:26, 59.59s/it]\n",
            "Dataset Entries:   1%|          | 3/373 [03:09<6:44:22, 65.58s/it]\n",
            "Dataset Entries:   1%|          | 4/373 [04:40<7:44:43, 75.57s/it]\n",
            "Dataset Entries:   1%|▏         | 5/373 [06:01<7:55:41, 77.56s/it]\n",
            "Dataset Entries:   2%|▏         | 6/373 [07:04<7:23:43, 72.54s/it]\n",
            "Dataset Entries:   2%|▏         | 7/373 [07:51<6:30:58, 64.09s/it]\n",
            "Dataset Entries:   2%|▏         | 8/373 [09:03<6:45:44, 66.70s/it]\n",
            "Dataset Entries:   2%|▏         | 9/373 [10:07<6:39:24, 65.84s/it]\n",
            "Dataset Entries:   3%|▎         | 10/373 [11:55<7:57:45, 78.97s/it]\n",
            "Dataset Entries:   3%|▎         | 11/373 [13:06<7:41:28, 76.49s/it]\n",
            "Dataset Entries:   3%|▎         | 12/373 [14:01<6:59:59, 69.80s/it]\n",
            "Dataset Entries:   3%|▎         | 13/373 [15:04<6:46:40, 67.78s/it]\n",
            "Dataset Entries:   4%|▍         | 14/373 [16:35<7:27:13, 74.74s/it]\n",
            "Dataset Entries:   4%|▍         | 15/373 [17:47<7:21:32, 74.00s/it]\n",
            "Dataset Entries:   4%|▍         | 16/373 [19:27<8:07:17, 81.90s/it]\n",
            "Dataset Entries:   5%|▍         | 17/373 [20:49<8:06:30, 82.00s/it]\n",
            "Dataset Entries:   5%|▍         | 18/373 [22:20<8:20:45, 84.64s/it]\n",
            "Dataset Entries:   5%|▌         | 19/373 [23:42<8:14:59, 83.90s/it]\n",
            "Dataset Entries:   5%|▌         | 20/373 [24:58<7:58:31, 81.34s/it]\n"
          ]
        },
        {
          "name": "stdout",
          "output_type": "stream",
          "text": [
            "Parameters: Namespace(allow_newlines_in_outputs=False, batch_size=None, chat_completions=True, date='01/05/2024 21:04:29', decay_constant=100, input_file='datasets/x1.txt', input_file_type='plain', keep_outputs_without_eos=True, max_output_length=40, min_num_tokens=-1, min_num_words=-1, model_name='gpt-3.5-turbo-0125', no_cuda=False, num_entries_per_input_and_label=2, num_entries_per_label=None, output_dir='datasets', output_file_name='trans-sts-gpt3.5', remove_duplicates=True, remove_identical_pairs=True, seed=42, task_file='task_specs/trans-sts-x2.json', top_k=5, top_p=0.9, use_openai=True)\n",
            "Done loading 373 inputs from file 'datasets/x1.txt'\n",
            "Using OpenAI's (gpt-3.5-turbo-0125) as generator. The following parameters are ignored: ['decay_constant', 'top_k']\n",
            "Starting dataset generation with DINO...\n",
            "Error code: 429 - {'error': {'message': 'Rate limit reached for gpt-3.5-turbo-0125 in organization org-otFZgKAMPWjPqQ9QYRXE5XAK on requests per day (RPD): Limit 10000, Used 10000, Requested 1. Please try again in 8.64s. Visit https://platform.openai.com/account/rate-limits to learn more.', 'type': 'requests', 'param': None, 'code': 'rate_limit_exceeded'}}\n",
            "Error code: 429 - {'error': {'message': 'Rate limit reached for gpt-3.5-turbo-0125 in organization org-otFZgKAMPWjPqQ9QYRXE5XAK on requests per day (RPD): Limit 10000, Used 10000, Requested 1. Please try again in 8.64s. Visit https://platform.openai.com/account/rate-limits to learn more.', 'type': 'requests', 'param': None, 'code': 'rate_limit_exceeded'}}\n",
            "Error code: 429 - {'error': {'message': 'Rate limit reached for gpt-3.5-turbo-0125 in organization org-otFZgKAMPWjPqQ9QYRXE5XAK on requests per day (RPD): Limit 10000, Used 10000, Requested 1. Please try again in 8.64s. Visit https://platform.openai.com/account/rate-limits to learn more.', 'type': 'requests', 'param': None, 'code': 'rate_limit_exceeded'}}\n",
            "Error code: 429 - {'error': {'message': 'Rate limit reached for gpt-3.5-turbo-0125 in organization org-otFZgKAMPWjPqQ9QYRXE5XAK on requests per day (RPD): Limit 10000, Used 10000, Requested 1. Please try again in 8.64s. Visit https://platform.openai.com/account/rate-limits to learn more.', 'type': 'requests', 'param': None, 'code': 'rate_limit_exceeded'}}\n",
            "Error code: 429 - {'error': {'message': 'Rate limit reached for gpt-3.5-turbo-0125 in organization org-otFZgKAMPWjPqQ9QYRXE5XAK on requests per day (RPD): Limit 10000, Used 10000, Requested 1. Please try again in 8.64s. Visit https://platform.openai.com/account/rate-limits to learn more.', 'type': 'requests', 'param': None, 'code': 'rate_limit_exceeded'}}\n",
            "Error code: 429 - {'error': {'message': 'Rate limit reached for gpt-3.5-turbo-0125 in organization org-otFZgKAMPWjPqQ9QYRXE5XAK on requests per day (RPD): Limit 10000, Used 10000, Requested 1. Please try again in 8.64s. Visit https://platform.openai.com/account/rate-limits to learn more.', 'type': 'requests', 'param': None, 'code': 'rate_limit_exceeded'}}\n",
            "Error code: 429 - {'error': {'message': 'Rate limit reached for gpt-3.5-turbo-0125 in organization org-otFZgKAMPWjPqQ9QYRXE5XAK on requests per day (RPD): Limit 10000, Used 10000, Requested 1. Please try again in 8.64s. Visit https://platform.openai.com/account/rate-limits to learn more.', 'type': 'requests', 'param': None, 'code': 'rate_limit_exceeded'}}\n",
            "Error code: 429 - {'error': {'message': 'Rate limit reached for gpt-3.5-turbo-0125 in organization org-otFZgKAMPWjPqQ9QYRXE5XAK on requests per day (RPD): Limit 10000, Used 10000, Requested 1. Please try again in 8.64s. Visit https://platform.openai.com/account/rate-limits to learn more.', 'type': 'requests', 'param': None, 'code': 'rate_limit_exceeded'}}\n",
            "Error code: 429 - {'error': {'message': 'Rate limit reached for gpt-3.5-turbo-0125 in organization org-otFZgKAMPWjPqQ9QYRXE5XAK on requests per day (RPD): Limit 10000, Used 10000, Requested 1. Please try again in 8.64s. Visit https://platform.openai.com/account/rate-limits to learn more.', 'type': 'requests', 'param': None, 'code': 'rate_limit_exceeded'}}\n",
            "Error code: 429 - {'error': {'message': 'Rate limit reached for gpt-3.5-turbo-0125 in organization org-otFZgKAMPWjPqQ9QYRXE5XAK on requests per day (RPD): Limit 10000, Used 10000, Requested 1. Please try again in 8.64s. Visit https://platform.openai.com/account/rate-limits to learn more.', 'type': 'requests', 'param': None, 'code': 'rate_limit_exceeded'}}\n",
            "Error code: 429 - {'error': {'message': 'Rate limit reached for gpt-3.5-turbo-0125 in organization org-otFZgKAMPWjPqQ9QYRXE5XAK on requests per day (RPD): Limit 10000, Used 10000, Requested 1. Please try again in 8.64s. Visit https://platform.openai.com/account/rate-limits to learn more.', 'type': 'requests', 'param': None, 'code': 'rate_limit_exceeded'}}\n",
            "Error code: 429 - {'error': {'message': 'Rate limit reached for gpt-3.5-turbo-0125 in organization org-otFZgKAMPWjPqQ9QYRXE5XAK on requests per day (RPD): Limit 10000, Used 10000, Requested 1. Please try again in 8.64s. Visit https://platform.openai.com/account/rate-limits to learn more.', 'type': 'requests', 'param': None, 'code': 'rate_limit_exceeded'}}\n",
            "Error code: 429 - {'error': {'message': 'Rate limit reached for gpt-3.5-turbo-0125 in organization org-otFZgKAMPWjPqQ9QYRXE5XAK on requests per day (RPD): Limit 10000, Used 10000, Requested 1. Please try again in 8.64s. Visit https://platform.openai.com/account/rate-limits to learn more.', 'type': 'requests', 'param': None, 'code': 'rate_limit_exceeded'}}\n",
            "Error code: 429 - {'error': {'message': 'Rate limit reached for gpt-3.5-turbo-0125 in organization org-otFZgKAMPWjPqQ9QYRXE5XAK on requests per day (RPD): Limit 10000, Used 10000, Requested 1. Please try again in 8.64s. Visit https://platform.openai.com/account/rate-limits to learn more.', 'type': 'requests', 'param': None, 'code': 'rate_limit_exceeded'}}\n",
            "Error code: 429 - {'error': {'message': 'Rate limit reached for gpt-3.5-turbo-0125 in organization org-otFZgKAMPWjPqQ9QYRXE5XAK on requests per day (RPD): Limit 10000, Used 10000, Requested 1. Please try again in 8.64s. Visit https://platform.openai.com/account/rate-limits to learn more.', 'type': 'requests', 'param': None, 'code': 'rate_limit_exceeded'}}\n",
            "Error code: 429 - {'error': {'message': 'Rate limit reached for gpt-3.5-turbo-0125 in organization org-otFZgKAMPWjPqQ9QYRXE5XAK on requests per day (RPD): Limit 10000, Used 10000, Requested 1. Please try again in 8.64s. Visit https://platform.openai.com/account/rate-limits to learn more.', 'type': 'requests', 'param': None, 'code': 'rate_limit_exceeded'}}\n",
            "Error code: 429 - {'error': {'message': 'Rate limit reached for gpt-3.5-turbo-0125 in organization org-otFZgKAMPWjPqQ9QYRXE5XAK on requests per day (RPD): Limit 10000, Used 10000, Requested 1. Please try again in 8.64s. Visit https://platform.openai.com/account/rate-limits to learn more.', 'type': 'requests', 'param': None, 'code': 'rate_limit_exceeded'}}\n",
            "Error code: 429 - {'error': {'message': 'Rate limit reached for gpt-3.5-turbo-0125 in organization org-otFZgKAMPWjPqQ9QYRXE5XAK on requests per day (RPD): Limit 10000, Used 10000, Requested 1. Please try again in 8.64s. Visit https://platform.openai.com/account/rate-limits to learn more.', 'type': 'requests', 'param': None, 'code': 'rate_limit_exceeded'}}\n",
            "Error code: 429 - {'error': {'message': 'Rate limit reached for gpt-3.5-turbo-0125 in organization org-otFZgKAMPWjPqQ9QYRXE5XAK on requests per day (RPD): Limit 10000, Used 10000, Requested 1. Please try again in 8.64s. Visit https://platform.openai.com/account/rate-limits to learn more.', 'type': 'requests', 'param': None, 'code': 'rate_limit_exceeded'}}\n",
            "Error code: 429 - {'error': {'message': 'Rate limit reached for gpt-3.5-turbo-0125 in organization org-otFZgKAMPWjPqQ9QYRXE5XAK on requests per day (RPD): Limit 10000, Used 10000, Requested 1. Please try again in 8.64s. Visit https://platform.openai.com/account/rate-limits to learn more.', 'type': 'requests', 'param': None, 'code': 'rate_limit_exceeded'}}\n",
            "Error code: 429 - {'error': {'message': 'Rate limit reached for gpt-3.5-turbo-0125 in organization org-otFZgKAMPWjPqQ9QYRXE5XAK on requests per day (RPD): Limit 10000, Used 10000, Requested 1. Please try again in 8.64s. Visit https://platform.openai.com/account/rate-limits to learn more.', 'type': 'requests', 'param': None, 'code': 'rate_limit_exceeded'}}\n",
            "Error code: 429 - {'error': {'message': 'Rate limit reached for gpt-3.5-turbo-0125 in organization org-otFZgKAMPWjPqQ9QYRXE5XAK on requests per day (RPD): Limit 10000, Used 10000, Requested 1. Please try again in 8.64s. Visit https://platform.openai.com/account/rate-limits to learn more.', 'type': 'requests', 'param': None, 'code': 'rate_limit_exceeded'}}\n",
            "Error code: 429 - {'error': {'message': 'Rate limit reached for gpt-3.5-turbo-0125 in organization org-otFZgKAMPWjPqQ9QYRXE5XAK on requests per day (RPD): Limit 10000, Used 10000, Requested 1. Please try again in 8.64s. Visit https://platform.openai.com/account/rate-limits to learn more.', 'type': 'requests', 'param': None, 'code': 'rate_limit_exceeded'}}\n",
            "Error code: 429 - {'error': {'message': 'Rate limit reached for gpt-3.5-turbo-0125 in organization org-otFZgKAMPWjPqQ9QYRXE5XAK on requests per day (RPD): Limit 10000, Used 10000, Requested 1. Please try again in 8.64s. Visit https://platform.openai.com/account/rate-limits to learn more.', 'type': 'requests', 'param': None, 'code': 'rate_limit_exceeded'}}\n",
            "Error code: 429 - {'error': {'message': 'Rate limit reached for gpt-3.5-turbo-0125 in organization org-otFZgKAMPWjPqQ9QYRXE5XAK on requests per day (RPD): Limit 10000, Used 10000, Requested 1. Please try again in 8.64s. Visit https://platform.openai.com/account/rate-limits to learn more.', 'type': 'requests', 'param': None, 'code': 'rate_limit_exceeded'}}\n",
            "Error code: 429 - {'error': {'message': 'Rate limit reached for gpt-3.5-turbo-0125 in organization org-otFZgKAMPWjPqQ9QYRXE5XAK on requests per day (RPD): Limit 10000, Used 10000, Requested 1. Please try again in 8.64s. Visit https://platform.openai.com/account/rate-limits to learn more.', 'type': 'requests', 'param': None, 'code': 'rate_limit_exceeded'}}\n",
            "Error code: 429 - {'error': {'message': 'Rate limit reached for gpt-3.5-turbo-0125 in organization org-otFZgKAMPWjPqQ9QYRXE5XAK on requests per day (RPD): Limit 10000, Used 10000, Requested 1. Please try again in 8.64s. Visit https://platform.openai.com/account/rate-limits to learn more.', 'type': 'requests', 'param': None, 'code': 'rate_limit_exceeded'}}\n",
            "Error code: 429 - {'error': {'message': 'Rate limit reached for gpt-3.5-turbo-0125 in organization org-otFZgKAMPWjPqQ9QYRXE5XAK on requests per day (RPD): Limit 10000, Used 10000, Requested 1. Please try again in 8.64s. Visit https://platform.openai.com/account/rate-limits to learn more.', 'type': 'requests', 'param': None, 'code': 'rate_limit_exceeded'}}\n",
            "Error code: 429 - {'error': {'message': 'Rate limit reached for gpt-3.5-turbo-0125 in organization org-otFZgKAMPWjPqQ9QYRXE5XAK on requests per day (RPD): Limit 10000, Used 10000, Requested 1. Please try again in 8.64s. Visit https://platform.openai.com/account/rate-limits to learn more.', 'type': 'requests', 'param': None, 'code': 'rate_limit_exceeded'}}\n",
            "Error code: 429 - {'error': {'message': 'Rate limit reached for gpt-3.5-turbo-0125 in organization org-otFZgKAMPWjPqQ9QYRXE5XAK on requests per day (RPD): Limit 10000, Used 10000, Requested 1. Please try again in 8.64s. Visit https://platform.openai.com/account/rate-limits to learn more.', 'type': 'requests', 'param': None, 'code': 'rate_limit_exceeded'}}\n",
            "Error code: 429 - {'error': {'message': 'Rate limit reached for gpt-3.5-turbo-0125 in organization org-otFZgKAMPWjPqQ9QYRXE5XAK on requests per day (RPD): Limit 10000, Used 10000, Requested 1. Please try again in 8.64s. Visit https://platform.openai.com/account/rate-limits to learn more.', 'type': 'requests', 'param': None, 'code': 'rate_limit_exceeded'}}\n",
            "Error code: 429 - {'error': {'message': 'Rate limit reached for gpt-3.5-turbo-0125 in organization org-otFZgKAMPWjPqQ9QYRXE5XAK on requests per day (RPD): Limit 10000, Used 10000, Requested 1. Please try again in 8.64s. Visit https://platform.openai.com/account/rate-limits to learn more.', 'type': 'requests', 'param': None, 'code': 'rate_limit_exceeded'}}\n",
            "Error code: 429 - {'error': {'message': 'Rate limit reached for gpt-3.5-turbo-0125 in organization org-otFZgKAMPWjPqQ9QYRXE5XAK on requests per day (RPD): Limit 10000, Used 10000, Requested 1. Please try again in 8.64s. Visit https://platform.openai.com/account/rate-limits to learn more.', 'type': 'requests', 'param': None, 'code': 'rate_limit_exceeded'}}\n",
            "Error code: 429 - {'error': {'message': 'Rate limit reached for gpt-3.5-turbo-0125 in organization org-otFZgKAMPWjPqQ9QYRXE5XAK on requests per day (RPD): Limit 10000, Used 10000, Requested 1. Please try again in 8.64s. Visit https://platform.openai.com/account/rate-limits to learn more.', 'type': 'requests', 'param': None, 'code': 'rate_limit_exceeded'}}\n",
            "Error code: 429 - {'error': {'message': 'Rate limit reached for gpt-3.5-turbo-0125 in organization org-otFZgKAMPWjPqQ9QYRXE5XAK on requests per day (RPD): Limit 10000, Used 10000, Requested 1. Please try again in 8.64s. Visit https://platform.openai.com/account/rate-limits to learn more.', 'type': 'requests', 'param': None, 'code': 'rate_limit_exceeded'}}\n",
            "Error code: 429 - {'error': {'message': 'Rate limit reached for gpt-3.5-turbo-0125 in organization org-otFZgKAMPWjPqQ9QYRXE5XAK on requests per day (RPD): Limit 10000, Used 10000, Requested 1. Please try again in 8.64s. Visit https://platform.openai.com/account/rate-limits to learn more.', 'type': 'requests', 'param': None, 'code': 'rate_limit_exceeded'}}\n",
            "Error code: 429 - {'error': {'message': 'Rate limit reached for gpt-3.5-turbo-0125 in organization org-otFZgKAMPWjPqQ9QYRXE5XAK on requests per day (RPD): Limit 10000, Used 10000, Requested 1. Please try again in 8.64s. Visit https://platform.openai.com/account/rate-limits to learn more.', 'type': 'requests', 'param': None, 'code': 'rate_limit_exceeded'}}\n",
            "Error code: 429 - {'error': {'message': 'Rate limit reached for gpt-3.5-turbo-0125 in organization org-otFZgKAMPWjPqQ9QYRXE5XAK on requests per day (RPD): Limit 10000, Used 10000, Requested 1. Please try again in 8.64s. Visit https://platform.openai.com/account/rate-limits to learn more.', 'type': 'requests', 'param': None, 'code': 'rate_limit_exceeded'}}\n",
            "Error code: 429 - {'error': {'message': 'Rate limit reached for gpt-3.5-turbo-0125 in organization org-otFZgKAMPWjPqQ9QYRXE5XAK on requests per day (RPD): Limit 10000, Used 10000, Requested 1. Please try again in 8.64s. Visit https://platform.openai.com/account/rate-limits to learn more.', 'type': 'requests', 'param': None, 'code': 'rate_limit_exceeded'}}\n",
            "Error code: 429 - {'error': {'message': 'Rate limit reached for gpt-3.5-turbo-0125 in organization org-otFZgKAMPWjPqQ9QYRXE5XAK on requests per day (RPD): Limit 10000, Used 10000, Requested 1. Please try again in 8.64s. Visit https://platform.openai.com/account/rate-limits to learn more.', 'type': 'requests', 'param': None, 'code': 'rate_limit_exceeded'}}\n",
            "Error code: 429 - {'error': {'message': 'Rate limit reached for gpt-3.5-turbo-0125 in organization org-otFZgKAMPWjPqQ9QYRXE5XAK on requests per day (RPD): Limit 10000, Used 10000, Requested 1. Please try again in 8.64s. Visit https://platform.openai.com/account/rate-limits to learn more.', 'type': 'requests', 'param': None, 'code': 'rate_limit_exceeded'}}\n",
            "Error code: 429 - {'error': {'message': 'Rate limit reached for gpt-3.5-turbo-0125 in organization org-otFZgKAMPWjPqQ9QYRXE5XAK on requests per day (RPD): Limit 10000, Used 10000, Requested 1. Please try again in 8.64s. Visit https://platform.openai.com/account/rate-limits to learn more.', 'type': 'requests', 'param': None, 'code': 'rate_limit_exceeded'}}\n",
            "Error code: 429 - {'error': {'message': 'Rate limit reached for gpt-3.5-turbo-0125 in organization org-otFZgKAMPWjPqQ9QYRXE5XAK on requests per day (RPD): Limit 10000, Used 10000, Requested 1. Please try again in 8.64s. Visit https://platform.openai.com/account/rate-limits to learn more.', 'type': 'requests', 'param': None, 'code': 'rate_limit_exceeded'}}\n",
            "Error code: 429 - {'error': {'message': 'Rate limit reached for gpt-3.5-turbo-0125 in organization org-otFZgKAMPWjPqQ9QYRXE5XAK on requests per day (RPD): Limit 10000, Used 10000, Requested 1. Please try again in 8.64s. Visit https://platform.openai.com/account/rate-limits to learn more.', 'type': 'requests', 'param': None, 'code': 'rate_limit_exceeded'}}\n",
            "Error code: 429 - {'error': {'message': 'Rate limit reached for gpt-3.5-turbo-0125 in organization org-otFZgKAMPWjPqQ9QYRXE5XAK on requests per day (RPD): Limit 10000, Used 10000, Requested 1. Please try again in 8.64s. Visit https://platform.openai.com/account/rate-limits to learn more.', 'type': 'requests', 'param': None, 'code': 'rate_limit_exceeded'}}\n",
            "Error code: 429 - {'error': {'message': 'Rate limit reached for gpt-3.5-turbo-0125 in organization org-otFZgKAMPWjPqQ9QYRXE5XAK on requests per day (RPD): Limit 10000, Used 10000, Requested 1. Please try again in 8.64s. Visit https://platform.openai.com/account/rate-limits to learn more.', 'type': 'requests', 'param': None, 'code': 'rate_limit_exceeded'}}\n",
            "Error code: 429 - {'error': {'message': 'Rate limit reached for gpt-3.5-turbo-0125 in organization org-otFZgKAMPWjPqQ9QYRXE5XAK on requests per day (RPD): Limit 10000, Used 10000, Requested 1. Please try again in 8.64s. Visit https://platform.openai.com/account/rate-limits to learn more.', 'type': 'requests', 'param': None, 'code': 'rate_limit_exceeded'}}\n",
            "Error code: 429 - {'error': {'message': 'Rate limit reached for gpt-3.5-turbo-0125 in organization org-otFZgKAMPWjPqQ9QYRXE5XAK on requests per day (RPD): Limit 10000, Used 10000, Requested 1. Please try again in 8.64s. Visit https://platform.openai.com/account/rate-limits to learn more.', 'type': 'requests', 'param': None, 'code': 'rate_limit_exceeded'}}\n",
            "Error code: 429 - {'error': {'message': 'Rate limit reached for gpt-3.5-turbo-0125 in organization org-otFZgKAMPWjPqQ9QYRXE5XAK on requests per day (RPD): Limit 10000, Used 10000, Requested 1. Please try again in 8.64s. Visit https://platform.openai.com/account/rate-limits to learn more.', 'type': 'requests', 'param': None, 'code': 'rate_limit_exceeded'}}\n",
            "Error code: 429 - {'error': {'message': 'Rate limit reached for gpt-3.5-turbo-0125 in organization org-otFZgKAMPWjPqQ9QYRXE5XAK on requests per day (RPD): Limit 10000, Used 10000, Requested 1. Please try again in 8.64s. Visit https://platform.openai.com/account/rate-limits to learn more.', 'type': 'requests', 'param': None, 'code': 'rate_limit_exceeded'}}\n",
            "Error code: 429 - {'error': {'message': 'Rate limit reached for gpt-3.5-turbo-0125 in organization org-otFZgKAMPWjPqQ9QYRXE5XAK on requests per day (RPD): Limit 10000, Used 10000, Requested 1. Please try again in 8.64s. Visit https://platform.openai.com/account/rate-limits to learn more.', 'type': 'requests', 'param': None, 'code': 'rate_limit_exceeded'}}\n",
            "Error code: 429 - {'error': {'message': 'Rate limit reached for gpt-3.5-turbo-0125 in organization org-otFZgKAMPWjPqQ9QYRXE5XAK on requests per day (RPD): Limit 10000, Used 10000, Requested 1. Please try again in 8.64s. Visit https://platform.openai.com/account/rate-limits to learn more.', 'type': 'requests', 'param': None, 'code': 'rate_limit_exceeded'}}\n",
            "Error code: 429 - {'error': {'message': 'Rate limit reached for gpt-3.5-turbo-0125 in organization org-otFZgKAMPWjPqQ9QYRXE5XAK on requests per day (RPD): Limit 10000, Used 10000, Requested 1. Please try again in 8.64s. Visit https://platform.openai.com/account/rate-limits to learn more.', 'type': 'requests', 'param': None, 'code': 'rate_limit_exceeded'}}\n",
            "Error code: 429 - {'error': {'message': 'Rate limit reached for gpt-3.5-turbo-0125 in organization org-otFZgKAMPWjPqQ9QYRXE5XAK on requests per day (RPD): Limit 10000, Used 10000, Requested 1. Please try again in 8.64s. Visit https://platform.openai.com/account/rate-limits to learn more.', 'type': 'requests', 'param': None, 'code': 'rate_limit_exceeded'}}\n",
            "Error code: 429 - {'error': {'message': 'Rate limit reached for gpt-3.5-turbo-0125 in organization org-otFZgKAMPWjPqQ9QYRXE5XAK on requests per day (RPD): Limit 10000, Used 10000, Requested 1. Please try again in 8.64s. Visit https://platform.openai.com/account/rate-limits to learn more.', 'type': 'requests', 'param': None, 'code': 'rate_limit_exceeded'}}\n",
            "Error code: 429 - {'error': {'message': 'Rate limit reached for gpt-3.5-turbo-0125 in organization org-otFZgKAMPWjPqQ9QYRXE5XAK on requests per day (RPD): Limit 10000, Used 10000, Requested 1. Please try again in 8.64s. Visit https://platform.openai.com/account/rate-limits to learn more.', 'type': 'requests', 'param': None, 'code': 'rate_limit_exceeded'}}\n",
            "Error code: 429 - {'error': {'message': 'Rate limit reached for gpt-3.5-turbo-0125 in organization org-otFZgKAMPWjPqQ9QYRXE5XAK on requests per day (RPD): Limit 10000, Used 10000, Requested 1. Please try again in 8.64s. Visit https://platform.openai.com/account/rate-limits to learn more.', 'type': 'requests', 'param': None, 'code': 'rate_limit_exceeded'}}\n",
            "Error code: 429 - {'error': {'message': 'Rate limit reached for gpt-3.5-turbo-0125 in organization org-otFZgKAMPWjPqQ9QYRXE5XAK on requests per day (RPD): Limit 10000, Used 10000, Requested 1. Please try again in 8.64s. Visit https://platform.openai.com/account/rate-limits to learn more.', 'type': 'requests', 'param': None, 'code': 'rate_limit_exceeded'}}\n",
            "Error code: 429 - {'error': {'message': 'Rate limit reached for gpt-3.5-turbo-0125 in organization org-otFZgKAMPWjPqQ9QYRXE5XAK on requests per day (RPD): Limit 10000, Used 10000, Requested 1. Please try again in 8.64s. Visit https://platform.openai.com/account/rate-limits to learn more.', 'type': 'requests', 'param': None, 'code': 'rate_limit_exceeded'}}\n",
            "Error code: 429 - {'error': {'message': 'Rate limit reached for gpt-3.5-turbo-0125 in organization org-otFZgKAMPWjPqQ9QYRXE5XAK on requests per day (RPD): Limit 10000, Used 10000, Requested 1. Please try again in 8.64s. Visit https://platform.openai.com/account/rate-limits to learn more.', 'type': 'requests', 'param': None, 'code': 'rate_limit_exceeded'}}\n",
            "Error code: 429 - {'error': {'message': 'Rate limit reached for gpt-3.5-turbo-0125 in organization org-otFZgKAMPWjPqQ9QYRXE5XAK on requests per day (RPD): Limit 10000, Used 10000, Requested 1. Please try again in 8.64s. Visit https://platform.openai.com/account/rate-limits to learn more.', 'type': 'requests', 'param': None, 'code': 'rate_limit_exceeded'}}\n",
            "Error code: 429 - {'error': {'message': 'Rate limit reached for gpt-3.5-turbo-0125 in organization org-otFZgKAMPWjPqQ9QYRXE5XAK on requests per day (RPD): Limit 10000, Used 10000, Requested 1. Please try again in 8.64s. Visit https://platform.openai.com/account/rate-limits to learn more.', 'type': 'requests', 'param': None, 'code': 'rate_limit_exceeded'}}\n",
            "Error code: 429 - {'error': {'message': 'Rate limit reached for gpt-3.5-turbo-0125 in organization org-otFZgKAMPWjPqQ9QYRXE5XAK on requests per day (RPD): Limit 10000, Used 10000, Requested 1. Please try again in 8.64s. Visit https://platform.openai.com/account/rate-limits to learn more.', 'type': 'requests', 'param': None, 'code': 'rate_limit_exceeded'}}\n",
            "Error code: 429 - {'error': {'message': 'Rate limit reached for gpt-3.5-turbo-0125 in organization org-otFZgKAMPWjPqQ9QYRXE5XAK on requests per day (RPD): Limit 10000, Used 10000, Requested 1. Please try again in 8.64s. Visit https://platform.openai.com/account/rate-limits to learn more.', 'type': 'requests', 'param': None, 'code': 'rate_limit_exceeded'}}\n",
            "Error code: 429 - {'error': {'message': 'Rate limit reached for gpt-3.5-turbo-0125 in organization org-otFZgKAMPWjPqQ9QYRXE5XAK on requests per day (RPD): Limit 10000, Used 10000, Requested 1. Please try again in 8.64s. Visit https://platform.openai.com/account/rate-limits to learn more.', 'type': 'requests', 'param': None, 'code': 'rate_limit_exceeded'}}\n",
            "Error code: 429 - {'error': {'message': 'Rate limit reached for gpt-3.5-turbo-0125 in organization org-otFZgKAMPWjPqQ9QYRXE5XAK on requests per day (RPD): Limit 10000, Used 10000, Requested 1. Please try again in 8.64s. Visit https://platform.openai.com/account/rate-limits to learn more.', 'type': 'requests', 'param': None, 'code': 'rate_limit_exceeded'}}\n",
            "Error code: 429 - {'error': {'message': 'Rate limit reached for gpt-3.5-turbo-0125 in organization org-otFZgKAMPWjPqQ9QYRXE5XAK on requests per day (RPD): Limit 10000, Used 10000, Requested 1. Please try again in 8.64s. Visit https://platform.openai.com/account/rate-limits to learn more.', 'type': 'requests', 'param': None, 'code': 'rate_limit_exceeded'}}\n",
            "Error code: 429 - {'error': {'message': 'Rate limit reached for gpt-3.5-turbo-0125 in organization org-otFZgKAMPWjPqQ9QYRXE5XAK on requests per day (RPD): Limit 10000, Used 10000, Requested 1. Please try again in 8.64s. Visit https://platform.openai.com/account/rate-limits to learn more.', 'type': 'requests', 'param': None, 'code': 'rate_limit_exceeded'}}\n",
            "Error code: 429 - {'error': {'message': 'Rate limit reached for gpt-3.5-turbo-0125 in organization org-otFZgKAMPWjPqQ9QYRXE5XAK on requests per day (RPD): Limit 10000, Used 10000, Requested 1. Please try again in 8.64s. Visit https://platform.openai.com/account/rate-limits to learn more.', 'type': 'requests', 'param': None, 'code': 'rate_limit_exceeded'}}\n",
            "Error code: 429 - {'error': {'message': 'Rate limit reached for gpt-3.5-turbo-0125 in organization org-otFZgKAMPWjPqQ9QYRXE5XAK on requests per day (RPD): Limit 10000, Used 10000, Requested 1. Please try again in 8.64s. Visit https://platform.openai.com/account/rate-limits to learn more.', 'type': 'requests', 'param': None, 'code': 'rate_limit_exceeded'}}\n",
            "Error code: 429 - {'error': {'message': 'Rate limit reached for gpt-3.5-turbo-0125 in organization org-otFZgKAMPWjPqQ9QYRXE5XAK on requests per day (RPD): Limit 10000, Used 10000, Requested 1. Please try again in 8.64s. Visit https://platform.openai.com/account/rate-limits to learn more.', 'type': 'requests', 'param': None, 'code': 'rate_limit_exceeded'}}\n",
            "Error code: 429 - {'error': {'message': 'Rate limit reached for gpt-3.5-turbo-0125 in organization org-otFZgKAMPWjPqQ9QYRXE5XAK on requests per day (RPD): Limit 10000, Used 10000, Requested 1. Please try again in 8.64s. Visit https://platform.openai.com/account/rate-limits to learn more.', 'type': 'requests', 'param': None, 'code': 'rate_limit_exceeded'}}\n",
            "Error code: 429 - {'error': {'message': 'Rate limit reached for gpt-3.5-turbo-0125 in organization org-otFZgKAMPWjPqQ9QYRXE5XAK on requests per day (RPD): Limit 10000, Used 10000, Requested 1. Please try again in 8.64s. Visit https://platform.openai.com/account/rate-limits to learn more.', 'type': 'requests', 'param': None, 'code': 'rate_limit_exceeded'}}\n",
            "Error code: 429 - {'error': {'message': 'Rate limit reached for gpt-3.5-turbo-0125 in organization org-otFZgKAMPWjPqQ9QYRXE5XAK on requests per day (RPD): Limit 10000, Used 10000, Requested 1. Please try again in 8.64s. Visit https://platform.openai.com/account/rate-limits to learn more.', 'type': 'requests', 'param': None, 'code': 'rate_limit_exceeded'}}\n",
            "Error code: 429 - {'error': {'message': 'Rate limit reached for gpt-3.5-turbo-0125 in organization org-otFZgKAMPWjPqQ9QYRXE5XAK on requests per day (RPD): Limit 10000, Used 10000, Requested 1. Please try again in 8.64s. Visit https://platform.openai.com/account/rate-limits to learn more.', 'type': 'requests', 'param': None, 'code': 'rate_limit_exceeded'}}\n",
            "Error code: 429 - {'error': {'message': 'Rate limit reached for gpt-3.5-turbo-0125 in organization org-otFZgKAMPWjPqQ9QYRXE5XAK on requests per day (RPD): Limit 10000, Used 10000, Requested 1. Please try again in 8.64s. Visit https://platform.openai.com/account/rate-limits to learn more.', 'type': 'requests', 'param': None, 'code': 'rate_limit_exceeded'}}\n",
            "Error code: 429 - {'error': {'message': 'Rate limit reached for gpt-3.5-turbo-0125 in organization org-otFZgKAMPWjPqQ9QYRXE5XAK on requests per day (RPD): Limit 10000, Used 10000, Requested 1. Please try again in 8.64s. Visit https://platform.openai.com/account/rate-limits to learn more.', 'type': 'requests', 'param': None, 'code': 'rate_limit_exceeded'}}\n",
            "Error code: 429 - {'error': {'message': 'Rate limit reached for gpt-3.5-turbo-0125 in organization org-otFZgKAMPWjPqQ9QYRXE5XAK on requests per day (RPD): Limit 10000, Used 10000, Requested 1. Please try again in 8.64s. Visit https://platform.openai.com/account/rate-limits to learn more.', 'type': 'requests', 'param': None, 'code': 'rate_limit_exceeded'}}\n",
            "Error code: 429 - {'error': {'message': 'Rate limit reached for gpt-3.5-turbo-0125 in organization org-otFZgKAMPWjPqQ9QYRXE5XAK on requests per day (RPD): Limit 10000, Used 10000, Requested 1. Please try again in 8.64s. Visit https://platform.openai.com/account/rate-limits to learn more.', 'type': 'requests', 'param': None, 'code': 'rate_limit_exceeded'}}\n",
            "Error code: 429 - {'error': {'message': 'Rate limit reached for gpt-3.5-turbo-0125 in organization org-otFZgKAMPWjPqQ9QYRXE5XAK on requests per day (RPD): Limit 10000, Used 10000, Requested 1. Please try again in 8.64s. Visit https://platform.openai.com/account/rate-limits to learn more.', 'type': 'requests', 'param': None, 'code': 'rate_limit_exceeded'}}\n",
            "Error code: 429 - {'error': {'message': 'Rate limit reached for gpt-3.5-turbo-0125 in organization org-otFZgKAMPWjPqQ9QYRXE5XAK on requests per day (RPD): Limit 10000, Used 10000, Requested 1. Please try again in 8.64s. Visit https://platform.openai.com/account/rate-limits to learn more.', 'type': 'requests', 'param': None, 'code': 'rate_limit_exceeded'}}\n",
            "Error code: 429 - {'error': {'message': 'Rate limit reached for gpt-3.5-turbo-0125 in organization org-otFZgKAMPWjPqQ9QYRXE5XAK on requests per day (RPD): Limit 10000, Used 10000, Requested 1. Please try again in 8.64s. Visit https://platform.openai.com/account/rate-limits to learn more.', 'type': 'requests', 'param': None, 'code': 'rate_limit_exceeded'}}\n",
            "Error code: 429 - {'error': {'message': 'Rate limit reached for gpt-3.5-turbo-0125 in organization org-otFZgKAMPWjPqQ9QYRXE5XAK on requests per day (RPD): Limit 10000, Used 10000, Requested 1. Please try again in 8.64s. Visit https://platform.openai.com/account/rate-limits to learn more.', 'type': 'requests', 'param': None, 'code': 'rate_limit_exceeded'}}\n",
            "Error code: 429 - {'error': {'message': 'Rate limit reached for gpt-3.5-turbo-0125 in organization org-otFZgKAMPWjPqQ9QYRXE5XAK on requests per day (RPD): Limit 10000, Used 10000, Requested 1. Please try again in 8.64s. Visit https://platform.openai.com/account/rate-limits to learn more.', 'type': 'requests', 'param': None, 'code': 'rate_limit_exceeded'}}\n",
            "Error code: 429 - {'error': {'message': 'Rate limit reached for gpt-3.5-turbo-0125 in organization org-otFZgKAMPWjPqQ9QYRXE5XAK on requests per day (RPD): Limit 10000, Used 10000, Requested 1. Please try again in 8.64s. Visit https://platform.openai.com/account/rate-limits to learn more.', 'type': 'requests', 'param': None, 'code': 'rate_limit_exceeded'}}\n",
            "Error code: 429 - {'error': {'message': 'Rate limit reached for gpt-3.5-turbo-0125 in organization org-otFZgKAMPWjPqQ9QYRXE5XAK on requests per day (RPD): Limit 10000, Used 10000, Requested 1. Please try again in 8.64s. Visit https://platform.openai.com/account/rate-limits to learn more.', 'type': 'requests', 'param': None, 'code': 'rate_limit_exceeded'}}\n",
            "Error code: 429 - {'error': {'message': 'Rate limit reached for gpt-3.5-turbo-0125 in organization org-otFZgKAMPWjPqQ9QYRXE5XAK on requests per day (RPD): Limit 10000, Used 10000, Requested 1. Please try again in 8.64s. Visit https://platform.openai.com/account/rate-limits to learn more.', 'type': 'requests', 'param': None, 'code': 'rate_limit_exceeded'}}\n",
            "Error code: 429 - {'error': {'message': 'Rate limit reached for gpt-3.5-turbo-0125 in organization org-otFZgKAMPWjPqQ9QYRXE5XAK on requests per day (RPD): Limit 10000, Used 10000, Requested 1. Please try again in 8.64s. Visit https://platform.openai.com/account/rate-limits to learn more.', 'type': 'requests', 'param': None, 'code': 'rate_limit_exceeded'}}\n",
            "Error code: 429 - {'error': {'message': 'Rate limit reached for gpt-3.5-turbo-0125 in organization org-otFZgKAMPWjPqQ9QYRXE5XAK on requests per day (RPD): Limit 10000, Used 10000, Requested 1. Please try again in 8.64s. Visit https://platform.openai.com/account/rate-limits to learn more.', 'type': 'requests', 'param': None, 'code': 'rate_limit_exceeded'}}\n",
            "Error code: 429 - {'error': {'message': 'Rate limit reached for gpt-3.5-turbo-0125 in organization org-otFZgKAMPWjPqQ9QYRXE5XAK on requests per day (RPD): Limit 10000, Used 10000, Requested 1. Please try again in 8.64s. Visit https://platform.openai.com/account/rate-limits to learn more.', 'type': 'requests', 'param': None, 'code': 'rate_limit_exceeded'}}\n",
            "Error code: 429 - {'error': {'message': 'Rate limit reached for gpt-3.5-turbo-0125 in organization org-otFZgKAMPWjPqQ9QYRXE5XAK on requests per day (RPD): Limit 10000, Used 10000, Requested 1. Please try again in 8.64s. Visit https://platform.openai.com/account/rate-limits to learn more.', 'type': 'requests', 'param': None, 'code': 'rate_limit_exceeded'}}\n",
            "Error code: 429 - {'error': {'message': 'Rate limit reached for gpt-3.5-turbo-0125 in organization org-otFZgKAMPWjPqQ9QYRXE5XAK on requests per day (RPD): Limit 10000, Used 10000, Requested 1. Please try again in 8.64s. Visit https://platform.openai.com/account/rate-limits to learn more.', 'type': 'requests', 'param': None, 'code': 'rate_limit_exceeded'}}\n",
            "Error code: 429 - {'error': {'message': 'Rate limit reached for gpt-3.5-turbo-0125 in organization org-otFZgKAMPWjPqQ9QYRXE5XAK on requests per day (RPD): Limit 10000, Used 10000, Requested 1. Please try again in 8.64s. Visit https://platform.openai.com/account/rate-limits to learn more.', 'type': 'requests', 'param': None, 'code': 'rate_limit_exceeded'}}"
          ]
        },
        {
          "name": "stderr",
          "output_type": "stream",
          "text": [
            "Dataset Entries:   6%|▌         | 21/373 [26:03<7:29:26, 76.61s/it]\n",
            "Dataset Entries:   6%|▌         | 22/373 [26:56<6:46:33, 69.50s/it]\n",
            "Dataset Entries:   6%|▌         | 23/373 [27:53<6:22:25, 65.56s/it]\n",
            "Dataset Entries:   6%|▋         | 24/373 [29:08<6:37:32, 68.34s/it]\n",
            "Dataset Entries:   7%|▋         | 25/373 [30:47<7:31:15, 77.80s/it]\n",
            "Dataset Entries:   7%|▋         | 26/373 [32:18<7:52:18, 81.67s/it]\n",
            "Dataset Entries:   7%|▋         | 27/373 [33:57<8:21:32, 86.97s/it]\n",
            "Dataset Entries:   8%|▊         | 28/373 [35:11<7:57:14, 83.00s/it]\n",
            "Dataset Entries:   8%|▊         | 29/373 [36:33<7:54:22, 82.74s/it]\n",
            "Dataset Entries:   8%|▊         | 30/373 [37:45<7:34:50, 79.56s/it]\n",
            "Dataset Entries:   8%|▊         | 31/373 [38:58<7:21:10, 77.40s/it]\n",
            "Dataset Entries:   9%|▊         | 32/373 [40:21<7:29:44, 79.13s/it]\n",
            "Dataset Entries:   9%|▉         | 33/373 [41:51<7:46:34, 82.34s/it]\n",
            "Dataset Entries:   9%|▉         | 34/373 [43:30<8:14:31, 87.53s/it]\n",
            "Dataset Entries:   9%|▉         | 35/373 [44:52<8:03:41, 85.86s/it]\n",
            "Dataset Entries:  10%|▉         | 36/373 [46:14<7:55:07, 84.59s/it]\n",
            "Dataset Entries:  10%|▉         | 37/373 [47:36<7:49:46, 83.89s/it]\n",
            "Dataset Entries:  10%|█         | 38/373 [49:15<8:13:57, 88.47s/it]\n",
            "Dataset Entries:  10%|█         | 39/373 [50:38<8:02:40, 86.71s/it]\n",
            "Dataset Entries:  11%|█         | 40/373 [52:01<7:54:52, 85.56s/it]\n",
            "Dataset Entries:  11%|█         | 41/373 [53:31<8:01:08, 86.95s/it]\n",
            "Dataset Entries:  11%|█▏        | 42/373 [55:01<8:04:15, 87.78s/it]\n",
            "Dataset Entries:  12%|█▏        | 43/373 [55:48<6:55:02, 75.46s/it]\n",
            "Dataset Entries:  12%|█▏        | 44/373 [57:18<7:19:13, 80.10s/it]\n",
            "Dataset Entries:  12%|█▏        | 45/373 [58:59<7:50:39, 86.09s/it]\n",
            "Dataset Entries:  12%|█▏        | 46/373 [1:00:02<7:11:33, 79.19s/it]\n",
            "Dataset Entries:  13%|█▎        | 47/373 [1:01:23<7:14:21, 79.94s/it]\n",
            "Dataset Entries:  13%|█▎        | 48/373 [1:02:35<7:00:16, 77.59s/it]\n",
            "Dataset Entries:  13%|█▎        | 49/373 [1:04:06<7:19:56, 81.47s/it]\n",
            "Dataset Entries:  13%|█▎        | 50/373 [1:05:47<7:49:43, 87.26s/it]\n",
            "Dataset Entries:  14%|█▎        | 51/373 [1:06:50<7:09:18, 80.00s/it]\n",
            "Dataset Entries:  14%|█▍        | 52/373 [1:07:46<6:29:09, 72.74s/it]\n",
            "Dataset Entries:  14%|█▍        | 53/373 [1:08:38<5:56:06, 66.77s/it]\n",
            "Dataset Entries:  14%|█▍        | 54/373 [1:10:00<6:19:22, 71.36s/it]\n",
            "Dataset Entries:  15%|█▍        | 55/373 [1:11:22<6:34:04, 74.35s/it]\n",
            "Dataset Entries:  15%|█▌        | 56/373 [1:13:10<7:25:49, 84.38s/it]\n",
            "Dataset Entries:  15%|█▌        | 57/373 [1:14:32<7:21:21, 83.80s/it]\n",
            "Dataset Entries:  16%|█▌        | 58/373 [1:15:45<7:02:52, 80.55s/it]\n",
            "Dataset Entries:  16%|█▌        | 59/373 [1:16:57<6:48:50, 78.12s/it]\n",
            "Dataset Entries:  16%|█▌        | 60/373 [1:18:28<7:07:00, 81.86s/it]\n",
            "Dataset Entries:  16%|█▋        | 61/373 [1:19:59<7:20:24, 84.69s/it]\n",
            "Dataset Entries:  17%|█▋        | 62/373 [1:21:21<7:13:35, 83.65s/it]\n",
            "Dataset Entries:  17%|█▋        | 63/373 [1:22:42<7:09:17, 83.09s/it]\n",
            "Dataset Entries:  17%|█▋        | 64/373 [1:24:22<7:33:08, 87.99s/it]\n",
            "Dataset Entries:  17%|█▋        | 65/373 [1:25:25<6:54:13, 80.69s/it]\n",
            "Dataset Entries:  18%|█▊        | 66/373 [1:27:06<7:23:38, 86.71s/it]\n",
            "Dataset Entries:  18%|█▊        | 67/373 [1:28:11<6:49:11, 80.23s/it]\n",
            "Dataset Entries:  18%|█▊        | 68/373 [1:29:33<6:49:36, 80.58s/it]\n",
            "Dataset Entries:  18%|█▊        | 69/373 [1:30:45<6:36:00, 78.16s/it]\n",
            "Dataset Entries:  19%|█▉        | 70/373 [1:32:26<7:08:32, 84.86s/it]\n",
            "Dataset Entries:  19%|█▉        | 71/373 [1:33:38<6:48:30, 81.16s/it]\n",
            "Dataset Entries:  19%|█▉        | 72/373 [1:35:08<7:00:17, 83.78s/it]\n",
            "Dataset Entries:  20%|█▉        | 73/373 [1:36:38<7:08:02, 85.61s/it]\n",
            "Dataset Entries:  20%|█▉        | 74/373 [1:37:42<6:34:14, 79.11s/it]\n",
            "Dataset Entries:  20%|██        | 75/373 [1:39:21<7:03:06, 85.19s/it]\n",
            "Dataset Entries:  20%|██        | 76/373 [1:40:10<6:07:33, 74.25s/it]\n",
            "Dataset Entries:  21%|██        | 77/373 [1:41:03<5:34:39, 67.84s/it]\n",
            "Dataset Entries:  21%|██        | 78/373 [1:42:05<5:25:01, 66.11s/it]\n",
            "Dataset Entries:  21%|██        | 79/373 [1:43:45<6:14:22, 76.40s/it]\n",
            "Dataset Entries:  21%|██▏       | 80/373 [1:45:25<6:47:10, 83.38s/it]\n",
            "Dataset Entries:  22%|██▏       | 81/373 [1:46:28<6:16:32, 77.37s/it]\n",
            "Dataset Entries:  22%|██▏       | 82/373 [1:47:59<6:34:21, 81.31s/it]\n",
            "Dataset Entries:  22%|██▏       | 83/373 [1:49:30<6:46:43, 84.15s/it]\n",
            "Dataset Entries:  23%|██▎       | 84/373 [1:51:10<7:08:07, 88.88s/it]\n",
            "Dataset Entries:  23%|██▎       | 85/373 [1:52:22<6:43:03, 83.97s/it]\n",
            "Dataset Entries:  23%|██▎       | 86/373 [1:53:35<6:25:54, 80.68s/it]\n",
            "Dataset Entries:  23%|██▎       | 87/373 [1:54:28<5:44:47, 72.33s/it]\n",
            "Dataset Entries:  24%|██▎       | 88/373 [1:55:22<5:17:11, 66.78s/it]\n",
            "Dataset Entries:  24%|██▍       | 89/373 [1:56:52<5:49:32, 73.85s/it]\n",
            "Dataset Entries:  24%|██▍       | 90/373 [1:58:32<6:25:01, 81.63s/it]\n",
            "Dataset Entries:  24%|██▍       | 91/373 [1:59:46<6:12:41, 79.30s/it]\n",
            "Dataset Entries:  25%|██▍       | 92/373 [2:01:07<6:13:51, 79.83s/it]\n",
            "Dataset Entries:  25%|██▍       | 93/373 [2:02:11<5:51:03, 75.23s/it]\n",
            "Dataset Entries:  25%|██▌       | 94/373 [2:03:10<5:26:23, 70.19s/it]\n",
            "Dataset Entries:  25%|██▌       | 95/373 [2:04:06<5:05:42, 65.98s/it]\n",
            "Dataset Entries:  26%|██▌       | 96/373 [2:04:54<4:39:29, 60.54s/it]\n",
            "Dataset Entries:  26%|██▌       | 97/373 [2:05:50<4:32:51, 59.32s/it]\n",
            "Dataset Entries:  26%|██▋       | 98/373 [2:06:37<4:15:13, 55.69s/it]\n",
            "Dataset Entries:  27%|██▋       | 99/373 [2:07:34<4:15:28, 55.94s/it]\n",
            "Dataset Entries:  27%|██▋       | 100/373 [2:08:22<4:03:28, 53.51s/it]\n",
            "Dataset Entries:  27%|██▋       | 101/373 [2:09:17<4:05:18, 54.11s/it]\n",
            "Dataset Entries:  27%|██▋       | 102/373 [2:10:05<3:55:08, 52.06s/it]\n",
            "Dataset Entries:  28%|██▊       | 103/373 [2:11:00<3:59:13, 53.16s/it]\n",
            "Dataset Entries:  28%|██▊       | 104/373 [2:11:48<3:51:08, 51.56s/it]\n",
            "Dataset Entries:  28%|██▊       | 105/373 [2:12:44<3:55:33, 52.74s/it]\n",
            "Dataset Entries:  28%|██▊       | 106/373 [2:13:32<3:49:05, 51.48s/it]\n",
            "Dataset Entries:  29%|██▊       | 107/373 [2:14:28<3:53:21, 52.64s/it]\n",
            "Dataset Entries:  29%|██▉       | 108/373 [2:15:15<3:45:32, 51.07s/it]\n",
            "Dataset Entries:  29%|██▉       | 109/373 [2:16:13<3:54:21, 53.26s/it]\n",
            "Dataset Entries:  29%|██▉       | 110/373 [2:17:00<3:45:11, 51.38s/it]\n"
          ]
        },
        {
          "name": "stderr",
          "output_type": "stream",
          "text": [
            "Dataset Entries:  30%|██▉       | 111/373 [2:17:51<3:42:53, 51.04s/it]\n",
            "Dataset Entries:  30%|███       | 112/373 [2:18:47<3:49:07, 52.67s/it]\n",
            "Dataset Entries:  30%|███       | 113/373 [2:19:34<3:41:01, 51.00s/it]\n",
            "Dataset Entries:  31%|███       | 114/373 [2:20:30<3:45:50, 52.32s/it]\n",
            "Dataset Entries:  31%|███       | 115/373 [2:21:25<3:49:19, 53.33s/it]\n",
            "Dataset Entries:  31%|███       | 116/373 [2:22:12<3:40:03, 51.38s/it]\n",
            "Dataset Entries:  31%|███▏      | 117/373 [2:23:07<3:44:23, 52.59s/it]\n",
            "Dataset Entries:  32%|███▏      | 118/373 [2:23:55<3:37:00, 51.06s/it]\n",
            "Dataset Entries:  32%|███▏      | 119/373 [2:24:51<3:42:31, 52.56s/it]\n",
            "Dataset Entries:  32%|███▏      | 120/373 [2:25:38<3:34:42, 50.92s/it]\n",
            "Dataset Entries:  32%|███▏      | 121/373 [2:26:35<3:41:13, 52.67s/it]\n",
            "Dataset Entries:  33%|███▎      | 122/373 [2:27:22<3:32:59, 50.92s/it]\n",
            "Dataset Entries:  33%|███▎      | 123/373 [2:28:18<3:38:58, 52.55s/it]\n",
            "Dataset Entries:  33%|███▎      | 124/373 [2:29:05<3:30:56, 50.83s/it]\n",
            "Dataset Entries:  34%|███▎      | 125/373 [2:30:01<3:36:36, 52.41s/it]\n",
            "Dataset Entries:  34%|███▍      | 126/373 [2:30:48<3:28:35, 50.67s/it]\n",
            "Dataset Entries:  34%|███▍      | 127/373 [2:31:44<3:34:56, 52.42s/it]\n",
            "Dataset Entries:  34%|███▍      | 128/373 [2:32:33<3:29:43, 51.36s/it]\n",
            "Dataset Entries:  35%|███▍      | 129/373 [2:33:31<3:36:22, 53.21s/it]\n",
            "Dataset Entries:  35%|███▍      | 130/373 [2:34:17<3:27:38, 51.27s/it]\n",
            "Dataset Entries:  35%|███▌      | 131/373 [2:35:13<3:32:18, 52.64s/it]\n",
            "Dataset Entries:  35%|███▌      | 132/373 [2:36:01<3:25:36, 51.19s/it]\n",
            "Dataset Entries:  36%|███▌      | 133/373 [2:36:58<3:31:50, 52.96s/it]\n",
            "Dataset Entries:  36%|███▌      | 134/373 [2:37:44<3:23:10, 51.00s/it]\n",
            "Dataset Entries:  36%|███▌      | 135/373 [2:38:40<3:27:20, 52.27s/it]\n",
            "Dataset Entries:  36%|███▋      | 136/373 [2:39:27<3:20:27, 50.75s/it]\n",
            "Dataset Entries:  37%|███▋      | 137/373 [2:40:22<3:24:56, 52.10s/it]\n",
            "Dataset Entries:  37%|███▋      | 138/373 [2:41:11<3:20:18, 51.14s/it]\n",
            "Dataset Entries:  37%|███▋      | 139/373 [2:42:07<3:25:03, 52.58s/it]\n",
            "Dataset Entries:  38%|███▊      | 140/373 [2:42:54<3:17:48, 50.94s/it]\n",
            "Dataset Entries:  38%|███▊      | 141/373 [2:43:50<3:22:24, 52.35s/it]\n",
            "Dataset Entries:  38%|███▊      | 142/373 [2:44:37<3:15:49, 50.86s/it]\n",
            "Dataset Entries:  38%|███▊      | 143/373 [2:45:33<3:20:25, 52.29s/it]\n",
            "Dataset Entries:  39%|███▊      | 144/373 [2:46:28<3:23:32, 53.33s/it]\n",
            "Dataset Entries:  39%|███▉      | 145/373 [2:47:17<3:16:39, 51.75s/it]\n",
            "Dataset Entries:  39%|███▉      | 146/373 [2:48:04<3:11:10, 50.53s/it]\n",
            "Dataset Entries:  39%|███▉      | 147/373 [2:49:00<3:16:27, 52.16s/it]\n",
            "Dataset Entries:  40%|███▉      | 148/373 [2:49:52<3:14:40, 51.92s/it]\n",
            "Dataset Entries:  40%|███▉      | 149/373 [2:50:48<3:19:05, 53.33s/it]\n",
            "Dataset Entries:  40%|████      | 150/373 [2:51:36<3:12:14, 51.73s/it]\n",
            "Dataset Entries:  40%|████      | 151/373 [2:52:26<3:08:45, 51.02s/it]\n",
            "Dataset Entries:  41%|████      | 152/373 [2:53:22<3:13:37, 52.57s/it]\n",
            "Dataset Entries:  41%|████      | 153/373 [2:54:09<3:07:28, 51.13s/it]\n",
            "Dataset Entries:  41%|████▏     | 154/373 [2:55:06<3:13:04, 52.90s/it]\n",
            "Dataset Entries:  42%|████▏     | 155/373 [2:55:54<3:06:30, 51.33s/it]\n",
            "Dataset Entries:  42%|████▏     | 156/373 [2:56:51<3:11:13, 52.87s/it]\n",
            "Dataset Entries:  42%|████▏     | 157/373 [2:57:40<3:06:09, 51.71s/it]\n",
            "Dataset Entries:  42%|████▏     | 158/373 [2:58:27<3:00:24, 50.35s/it]\n",
            "Dataset Entries:  43%|████▎     | 159/373 [2:59:23<3:06:10, 52.20s/it]\n",
            "Dataset Entries:  43%|████▎     | 160/373 [3:00:12<3:01:25, 51.11s/it]\n",
            "Dataset Entries:  43%|████▎     | 161/373 [3:01:07<3:05:01, 52.36s/it]\n",
            "Dataset Entries:  43%|████▎     | 162/373 [3:01:55<2:59:45, 51.11s/it]\n",
            "Dataset Entries:  44%|████▎     | 163/373 [3:02:51<3:03:34, 52.45s/it]\n",
            "Dataset Entries:  44%|████▍     | 164/373 [3:03:38<2:56:39, 50.71s/it]\n",
            "Dataset Entries:  44%|████▍     | 165/373 [3:04:34<3:02:11, 52.56s/it]\n",
            "Dataset Entries:  45%|████▍     | 166/373 [3:05:22<2:55:47, 50.95s/it]\n",
            "Dataset Entries:  45%|████▍     | 167/373 [3:06:19<3:01:00, 52.72s/it]\n",
            "Dataset Entries:  45%|████▌     | 168/373 [3:07:05<2:54:12, 50.99s/it]\n",
            "Dataset Entries:  45%|████▌     | 169/373 [3:08:03<2:59:34, 52.82s/it]\n",
            "Dataset Entries:  46%|████▌     | 170/373 [3:08:49<2:52:35, 51.01s/it]\n",
            "Dataset Entries:  46%|████▌     | 171/373 [3:09:46<2:57:30, 52.73s/it]\n",
            "Dataset Entries:  46%|████▌     | 172/373 [3:10:35<2:52:34, 51.52s/it]\n",
            "Dataset Entries:  46%|████▋     | 173/373 [3:11:31<2:56:26, 52.93s/it]\n",
            "Dataset Entries:  47%|████▋     | 174/373 [3:12:19<2:50:35, 51.43s/it]\n",
            "Dataset Entries:  47%|████▋     | 175/373 [3:13:15<2:54:45, 52.96s/it]\n",
            "Dataset Entries:  47%|████▋     | 176/373 [3:14:02<2:47:20, 50.97s/it]\n",
            "Dataset Entries:  47%|████▋     | 177/373 [3:14:59<2:52:12, 52.72s/it]\n",
            "Dataset Entries:  48%|████▊     | 178/373 [3:15:47<2:47:05, 51.42s/it]\n",
            "Dataset Entries:  48%|████▊     | 179/373 [3:16:43<2:50:54, 52.86s/it]\n",
            "Dataset Entries:  48%|████▊     | 180/373 [3:17:32<2:45:48, 51.55s/it]\n",
            "Dataset Entries:  49%|████▊     | 181/373 [3:18:18<2:40:12, 50.07s/it]\n",
            "Dataset Entries:  49%|████▉     | 182/373 [3:19:15<2:45:20, 51.94s/it]\n",
            "Dataset Entries:  49%|████▉     | 183/373 [3:20:11<2:48:17, 53.14s/it]\n",
            "Dataset Entries:  49%|████▉     | 184/373 [3:20:58<2:42:08, 51.47s/it]\n",
            "Dataset Entries:  50%|████▉     | 185/373 [3:21:53<2:44:31, 52.51s/it]\n",
            "Dataset Entries:  50%|████▉     | 186/373 [3:22:42<2:40:12, 51.40s/it]\n",
            "Dataset Entries:  50%|█████     | 187/373 [3:23:38<2:43:36, 52.78s/it]\n",
            "Dataset Entries:  50%|█████     | 188/373 [3:24:25<2:37:05, 50.95s/it]\n",
            "Dataset Entries:  51%|█████     | 189/373 [3:25:20<2:40:23, 52.30s/it]\n",
            "Dataset Entries:  51%|█████     | 190/373 [3:26:07<2:34:51, 50.77s/it]\n",
            "Dataset Entries:  51%|█████     | 191/373 [3:27:05<2:39:58, 52.74s/it]\n",
            "Dataset Entries:  51%|█████▏    | 192/373 [3:27:52<2:34:34, 51.24s/it]\n",
            "Dataset Entries:  52%|█████▏    | 193/373 [3:28:49<2:38:18, 52.77s/it]\n",
            "Dataset Entries:  52%|█████▏    | 194/373 [3:29:39<2:34:59, 51.95s/it]\n",
            "Dataset Entries:  52%|█████▏    | 195/373 [3:30:26<2:29:45, 50.48s/it]\n",
            "Dataset Entries:  53%|█████▎    | 196/373 [3:31:21<2:33:36, 52.07s/it]\n",
            "Dataset Entries:  53%|█████▎    | 197/373 [3:32:09<2:28:24, 50.60s/it]\n",
            "Dataset Entries:  53%|█████▎    | 198/373 [3:33:05<2:32:41, 52.35s/it]\n",
            "Dataset Entries:  53%|█████▎    | 199/373 [3:33:53<2:28:00, 51.04s/it]\n",
            "Dataset Entries:  54%|█████▎    | 200/373 [3:34:49<2:31:32, 52.56s/it]\n",
            "Dataset Entries:  54%|█████▍    | 201/373 [3:35:36<2:25:43, 50.84s/it]\n",
            "Dataset Entries:  54%|█████▍    | 202/373 [3:36:33<2:29:59, 52.63s/it]\n",
            "Dataset Entries:  54%|█████▍    | 203/373 [3:37:19<2:24:04, 50.85s/it]\n",
            "Dataset Entries:  55%|█████▍    | 204/373 [3:38:15<2:27:08, 52.24s/it]\n",
            "Dataset Entries:  55%|█████▍    | 205/373 [3:39:11<2:29:12, 53.29s/it]\n",
            "Dataset Entries:  55%|█████▌    | 206/373 [3:40:02<2:26:27, 52.62s/it]\n",
            "Dataset Entries:  55%|█████▌    | 207/373 [3:40:50<2:21:49, 51.26s/it]\n",
            "Dataset Entries:  56%|█████▌    | 208/373 [3:41:45<2:24:09, 52.42s/it]\n",
            "Dataset Entries:  56%|█████▌    | 209/373 [3:42:33<2:19:34, 51.07s/it]\n",
            "Dataset Entries:  56%|█████▋    | 210/373 [3:43:28<2:22:15, 52.37s/it]\n",
            "Dataset Entries:  57%|█████▋    | 211/373 [3:44:15<2:17:12, 50.82s/it]\n",
            "Dataset Entries:  57%|█████▋    | 212/373 [3:45:12<2:21:19, 52.67s/it]\n",
            "Dataset Entries:  57%|█████▋    | 213/373 [3:45:59<2:15:42, 50.89s/it]\n",
            "Dataset Entries:  57%|█████▋    | 214/373 [3:46:56<2:19:55, 52.80s/it]\n",
            "Dataset Entries:  58%|█████▊    | 215/373 [3:47:45<2:15:49, 51.58s/it]\n",
            "Dataset Entries:  58%|█████▊    | 216/373 [3:48:33<2:12:00, 50.45s/it]\n",
            "Dataset Entries:  58%|█████▊    | 217/373 [3:49:30<2:16:29, 52.50s/it]\n",
            "Dataset Entries:  58%|█████▊    | 218/373 [3:50:18<2:12:10, 51.17s/it]\n",
            "Dataset Entries:  59%|█████▊    | 219/373 [3:51:14<2:14:45, 52.51s/it]\n",
            "Dataset Entries:  59%|█████▉    | 220/373 [3:52:01<2:09:42, 50.86s/it]\n",
            "Dataset Entries:  59%|█████▉    | 221/373 [3:52:58<2:13:29, 52.69s/it]\n",
            "Dataset Entries:  60%|█████▉    | 222/373 [3:53:45<2:08:16, 50.97s/it]\n",
            "Dataset Entries:  60%|█████▉    | 223/373 [3:54:41<2:11:32, 52.62s/it]\n",
            "Dataset Entries:  60%|██████    | 224/373 [3:55:29<2:07:04, 51.17s/it]\n",
            "Dataset Entries:  60%|██████    | 225/373 [3:56:26<2:10:24, 52.87s/it]\n",
            "Dataset Entries:  61%|██████    | 226/373 [3:57:13<2:05:15, 51.13s/it]\n",
            "Dataset Entries:  61%|██████    | 227/373 [3:58:09<2:08:08, 52.66s/it]\n",
            "Dataset Entries:  61%|██████    | 228/373 [3:58:57<2:03:18, 51.02s/it]\n",
            "Dataset Entries:  61%|██████▏   | 229/373 [3:59:52<2:05:48, 52.42s/it]\n",
            "Dataset Entries:  62%|██████▏   | 230/373 [4:00:41<2:02:21, 51.34s/it]\n",
            "Dataset Entries:  62%|██████▏   | 231/373 [4:01:37<2:04:38, 52.67s/it]\n",
            "Dataset Entries:  62%|██████▏   | 232/373 [4:02:24<1:59:36, 50.89s/it]\n",
            "Dataset Entries:  62%|██████▏   | 233/373 [4:03:20<2:02:20, 52.43s/it]\n",
            "Dataset Entries:  63%|██████▎   | 234/373 [4:04:07<1:57:48, 50.85s/it]\n",
            "Dataset Entries:  63%|██████▎   | 235/373 [4:05:04<2:01:42, 52.92s/it]\n",
            "Dataset Entries:  63%|██████▎   | 236/373 [4:05:53<1:57:29, 51.45s/it]\n",
            "Dataset Entries:  64%|██████▎   | 237/373 [4:06:49<1:59:48, 52.86s/it]\n",
            "Dataset Entries:  64%|██████▍   | 238/373 [4:07:36<1:55:12, 51.20s/it]\n",
            "Dataset Entries:  64%|██████▍   | 239/373 [4:08:31<1:57:12, 52.48s/it]\n",
            "Dataset Entries:  64%|██████▍   | 240/373 [4:09:19<1:52:44, 50.86s/it]\n",
            "Dataset Entries:  65%|██████▍   | 241/373 [4:10:14<1:55:13, 52.37s/it]\n",
            "Dataset Entries:  65%|██████▍   | 242/373 [4:11:02<1:51:20, 51.00s/it]\n",
            "Dataset Entries:  65%|██████▌   | 243/373 [4:11:58<1:53:17, 52.29s/it]\n",
            "Dataset Entries:  65%|██████▌   | 244/373 [4:12:53<1:54:17, 53.16s/it]\n",
            "Dataset Entries:  66%|██████▌   | 245/373 [4:13:40<1:49:36, 51.38s/it]\n",
            "Dataset Entries:  66%|██████▌   | 246/373 [4:14:36<1:51:45, 52.80s/it]\n",
            "Dataset Entries:  66%|██████▌   | 247/373 [4:15:23<1:47:30, 51.19s/it]\n",
            "Dataset Entries:  66%|██████▋   | 248/373 [4:16:12<1:45:02, 50.42s/it]\n",
            "Dataset Entries:  67%|██████▋   | 249/373 [4:17:08<1:47:27, 52.00s/it]\n",
            "Dataset Entries:  67%|██████▋   | 250/373 [4:17:55<1:43:57, 50.71s/it]\n",
            "Dataset Entries:  67%|██████▋   | 251/373 [4:18:53<1:47:14, 52.74s/it]\n",
            "Dataset Entries:  68%|██████▊   | 252/373 [4:19:40<1:42:58, 51.06s/it]\n",
            "Dataset Entries:  68%|██████▊   | 253/373 [4:20:37<1:45:53, 52.95s/it]\n",
            "Dataset Entries:  68%|██████▊   | 254/373 [4:21:24<1:41:20, 51.10s/it]\n",
            "Dataset Entries:  68%|██████▊   | 255/373 [4:22:21<1:43:40, 52.72s/it]\n",
            "Dataset Entries:  69%|██████▊   | 256/373 [4:23:07<1:39:16, 50.91s/it]\n",
            "Dataset Entries:  69%|██████▉   | 257/373 [4:24:05<1:42:11, 52.86s/it]\n",
            "Dataset Entries:  69%|██████▉   | 258/373 [4:24:52<1:37:55, 51.09s/it]\n",
            "Dataset Entries:  69%|██████▉   | 259/373 [4:25:49<1:40:50, 53.07s/it]\n",
            "Dataset Entries:  70%|██████▉   | 260/373 [4:26:36<1:36:26, 51.21s/it]\n",
            "Dataset Entries:  70%|██████▉   | 261/373 [4:27:32<1:37:53, 52.44s/it]\n",
            "Dataset Entries:  70%|███████   | 262/373 [4:28:19<1:33:59, 50.81s/it]\n",
            "Dataset Entries:  71%|███████   | 263/373 [4:29:15<1:36:11, 52.46s/it]\n",
            "Dataset Entries:  71%|███████   | 264/373 [4:30:03<1:33:08, 51.27s/it]\n",
            "Dataset Entries:  71%|███████   | 265/373 [4:31:00<1:34:51, 52.70s/it]\n",
            "Dataset Entries:  71%|███████▏  | 266/373 [4:31:47<1:31:10, 51.12s/it]\n",
            "Dataset Entries:  72%|███████▏  | 267/373 [4:32:43<1:33:01, 52.65s/it]\n",
            "Dataset Entries:  72%|███████▏  | 268/373 [4:33:30<1:29:12, 50.97s/it]\n",
            "Dataset Entries:  72%|███████▏  | 269/373 [4:34:27<1:31:11, 52.61s/it]\n",
            "Dataset Entries:  72%|███████▏  | 270/373 [4:35:14<1:27:39, 51.06s/it]\n",
            "Dataset Entries:  73%|███████▎  | 271/373 [4:36:10<1:29:23, 52.59s/it]\n",
            "Dataset Entries:  73%|███████▎  | 272/373 [4:36:57<1:25:45, 50.94s/it]\n",
            "Dataset Entries:  73%|███████▎  | 273/373 [4:37:53<1:27:17, 52.38s/it]\n",
            "Dataset Entries:  73%|███████▎  | 274/373 [4:38:40<1:23:33, 50.64s/it]\n",
            "Dataset Entries:  74%|███████▎  | 275/373 [4:39:36<1:25:19, 52.24s/it]\n",
            "Dataset Entries:  74%|███████▍  | 276/373 [4:40:28<1:24:40, 52.38s/it]\n",
            "Dataset Entries:  74%|███████▍  | 277/373 [4:41:16<1:21:41, 51.06s/it]\n",
            "Dataset Entries:  75%|███████▍  | 278/373 [4:42:13<1:23:23, 52.67s/it]\n",
            "Dataset Entries:  75%|███████▍  | 279/373 [4:43:00<1:20:06, 51.14s/it]\n",
            "Dataset Entries:  75%|███████▌  | 280/373 [4:43:58<1:22:05, 52.96s/it]\n",
            "Dataset Entries:  75%|███████▌  | 281/373 [4:44:45<1:18:33, 51.23s/it]\n",
            "Dataset Entries:  76%|███████▌  | 282/373 [4:45:40<1:19:33, 52.45s/it]\n",
            "Dataset Entries:  76%|███████▌  | 283/373 [4:46:28<1:16:29, 51.00s/it]\n",
            "Dataset Entries:  76%|███████▌  | 284/373 [4:47:24<1:18:08, 52.68s/it]\n",
            "Dataset Entries:  76%|███████▋  | 285/373 [4:48:13<1:15:33, 51.52s/it]\n",
            "Dataset Entries:  77%|███████▋  | 286/373 [4:49:09<1:16:27, 52.73s/it]\n",
            "Dataset Entries:  77%|███████▋  | 287/373 [4:49:57<1:13:32, 51.31s/it]\n",
            "Dataset Entries:  77%|███████▋  | 288/373 [4:50:53<1:14:48, 52.81s/it]\n",
            "Dataset Entries:  77%|███████▋  | 289/373 [4:51:40<1:11:30, 51.07s/it]\n",
            "Dataset Entries:  78%|███████▊  | 290/373 [4:52:36<1:12:43, 52.57s/it]\n",
            "Dataset Entries:  78%|███████▊  | 291/373 [4:53:23<1:09:37, 50.95s/it]\n",
            "Dataset Entries:  78%|███████▊  | 292/373 [4:54:19<1:10:46, 52.43s/it]\n",
            "Dataset Entries:  79%|███████▊  | 293/373 [4:55:06<1:07:40, 50.76s/it]\n",
            "Dataset Entries:  79%|███████▉  | 294/373 [4:56:03<1:09:09, 52.52s/it]\n",
            "Dataset Entries:  79%|███████▉  | 295/373 [4:56:52<1:07:16, 51.75s/it]\n",
            "Dataset Entries:  79%|███████▉  | 296/373 [4:57:48<1:07:47, 52.83s/it]\n",
            "Dataset Entries:  80%|███████▉  | 297/373 [4:58:35<1:04:42, 51.08s/it]\n",
            "Dataset Entries:  80%|███████▉  | 298/373 [4:59:31<1:05:45, 52.60s/it]\n",
            "Dataset Entries:  80%|████████  | 299/373 [5:00:19<1:03:05, 51.15s/it]\n",
            "Dataset Entries:  80%|████████  | 300/373 [5:01:15<1:03:56, 52.56s/it]\n",
            "Dataset Entries:  81%|████████  | 301/373 [5:02:03<1:01:24, 51.17s/it]\n",
            "Dataset Entries:  81%|████████  | 302/373 [5:02:59<1:02:17, 52.64s/it]\n",
            "Dataset Entries:  81%|████████  | 303/373 [5:03:47<59:57, 51.39s/it]  \n",
            "Dataset Entries:  82%|████████▏ | 304/373 [5:04:35<57:49, 50.29s/it]\n",
            "Dataset Entries:  82%|████████▏ | 305/373 [5:05:32<59:24, 52.42s/it]\n",
            "Dataset Entries:  82%|████████▏ | 306/373 [5:06:21<57:20, 51.35s/it]\n",
            "Dataset Entries:  82%|████████▏ | 307/373 [5:07:10<55:44, 50.68s/it]\n",
            "Dataset Entries:  83%|████████▎ | 308/373 [5:08:06<56:32, 52.19s/it]\n",
            "Dataset Entries:  83%|████████▎ | 309/373 [5:08:54<54:26, 51.04s/it]\n",
            "Dataset Entries:  83%|████████▎ | 310/373 [5:09:52<55:34, 52.93s/it]\n",
            "Dataset Entries:  83%|████████▎ | 311/373 [5:10:38<52:45, 51.05s/it]\n",
            "Dataset Entries:  84%|████████▎ | 312/373 [5:11:35<53:43, 52.85s/it]\n",
            "Dataset Entries:  84%|████████▍ | 313/373 [5:12:24<51:32, 51.54s/it]\n",
            "Dataset Entries:  84%|████████▍ | 314/373 [5:13:20<52:07, 53.01s/it]\n",
            "Dataset Entries:  84%|████████▍ | 315/373 [5:14:09<49:59, 51.72s/it]\n",
            "Dataset Entries:  85%|████████▍ | 316/373 [5:14:58<48:28, 51.03s/it]\n",
            "Dataset Entries:  85%|████████▍ | 317/373 [5:15:55<49:06, 52.62s/it]\n",
            "Dataset Entries:  85%|████████▌ | 318/373 [5:16:41<46:31, 50.75s/it]\n",
            "Dataset Entries:  86%|████████▌ | 319/373 [5:17:37<47:10, 52.43s/it]\n",
            "Dataset Entries:  86%|████████▌ | 320/373 [5:18:24<44:54, 50.83s/it]\n",
            "Dataset Entries:  86%|████████▌ | 321/373 [5:19:21<45:29, 52.49s/it]\n",
            "Dataset Entries:  86%|████████▋ | 322/373 [5:20:08<43:20, 50.99s/it]\n",
            "Dataset Entries:  87%|████████▋ | 323/373 [5:21:05<43:51, 52.63s/it]\n",
            "Dataset Entries:  87%|████████▋ | 324/373 [5:21:53<41:48, 51.19s/it]\n",
            "Dataset Entries:  87%|████████▋ | 325/373 [5:22:49<42:08, 52.68s/it]\n",
            "Dataset Entries:  87%|████████▋ | 326/373 [5:23:35<39:48, 50.82s/it]\n",
            "Dataset Entries:  88%|████████▊ | 327/373 [5:24:32<40:15, 52.52s/it]\n",
            "Dataset Entries:  88%|████████▊ | 328/373 [5:25:19<38:13, 50.96s/it]\n",
            "Dataset Entries:  88%|████████▊ | 329/373 [5:26:15<38:31, 52.53s/it]\n",
            "Dataset Entries:  88%|████████▊ | 330/373 [5:27:04<36:54, 51.51s/it]\n",
            "Dataset Entries:  89%|████████▊ | 331/373 [5:28:02<37:14, 53.21s/it]\n",
            "Dataset Entries:  89%|████████▉ | 332/373 [5:28:49<35:13, 51.55s/it]\n",
            "Dataset Entries:  89%|████████▉ | 333/373 [5:29:38<33:45, 50.64s/it]\n",
            "Dataset Entries:  90%|████████▉ | 334/373 [5:30:35<34:08, 52.51s/it]\n",
            "Dataset Entries:  90%|████████▉ | 335/373 [5:31:23<32:25, 51.21s/it]\n",
            "Dataset Entries:  90%|█████████ | 336/373 [5:32:19<32:32, 52.78s/it]\n",
            "Dataset Entries:  90%|█████████ | 337/373 [5:33:07<30:49, 51.37s/it]\n",
            "Dataset Entries:  91%|█████████ | 338/373 [5:34:04<30:49, 52.84s/it]\n",
            "Dataset Entries:  91%|█████████ | 339/373 [5:34:52<29:07, 51.41s/it]\n",
            "Dataset Entries:  91%|█████████ | 340/373 [5:35:47<28:53, 52.54s/it]\n",
            "Dataset Entries:  91%|█████████▏| 341/373 [5:36:33<27:01, 50.66s/it]\n",
            "Dataset Entries:  92%|█████████▏| 342/373 [5:37:29<26:56, 52.15s/it]\n",
            "Dataset Entries:  92%|█████████▏| 343/373 [5:38:17<25:29, 50.97s/it]\n",
            "Dataset Entries:  92%|█████████▏| 344/373 [5:39:13<25:25, 52.61s/it]\n",
            "Dataset Entries:  92%|█████████▏| 345/373 [5:40:01<23:49, 51.05s/it]\n",
            "Dataset Entries:  93%|█████████▎| 346/373 [5:40:57<23:37, 52.50s/it]\n",
            "Dataset Entries:  93%|█████████▎| 347/373 [5:41:45<22:14, 51.32s/it]\n",
            "Dataset Entries:  93%|█████████▎| 348/373 [5:42:42<22:00, 52.81s/it]\n",
            "Dataset Entries:  94%|█████████▎| 349/373 [5:43:29<20:27, 51.16s/it]\n",
            "Dataset Entries:  94%|█████████▍| 350/373 [5:44:24<20:05, 52.40s/it]\n",
            "Dataset Entries:  94%|█████████▍| 351/373 [5:45:11<18:37, 50.78s/it]\n",
            "Dataset Entries:  94%|█████████▍| 352/373 [5:46:06<18:14, 52.13s/it]\n",
            "Dataset Entries:  95%|█████████▍| 353/373 [5:47:02<17:42, 53.12s/it]\n",
            "Dataset Entries:  95%|█████████▍| 354/373 [5:47:49<16:13, 51.22s/it]\n",
            "Dataset Entries:  95%|█████████▌| 355/373 [5:48:42<15:34, 51.93s/it]\n",
            "Dataset Entries:  95%|█████████▌| 356/373 [5:49:30<14:21, 50.70s/it]\n",
            "Dataset Entries:  96%|█████████▌| 357/373 [5:50:26<13:56, 52.28s/it]\n",
            "Dataset Entries:  96%|█████████▌| 358/373 [5:51:22<13:21, 53.44s/it]\n",
            "Dataset Entries:  96%|█████████▌| 359/373 [5:52:09<12:00, 51.50s/it]\n",
            "Dataset Entries:  97%|█████████▋| 360/373 [5:53:06<11:29, 53.05s/it]\n",
            "Dataset Entries:  97%|█████████▋| 361/373 [5:53:53<10:14, 51.23s/it]\n",
            "Dataset Entries:  97%|█████████▋| 362/373 [5:54:42<09:16, 50.59s/it]\n",
            "Dataset Entries:  97%|█████████▋| 363/373 [5:55:37<08:40, 52.04s/it]\n",
            "Dataset Entries:  98%|█████████▊| 364/373 [5:56:33<07:59, 53.24s/it]\n",
            "Dataset Entries:  98%|█████████▊| 365/373 [5:57:22<06:54, 51.78s/it]\n",
            "Dataset Entries:  98%|█████████▊| 366/373 [5:58:09<05:52, 50.38s/it]\n",
            "Dataset Entries:  98%|█████████▊| 367/373 [5:59:05<05:12, 52.13s/it]\n",
            "Dataset Entries:  99%|█████████▊| 368/373 [5:59:54<04:15, 51.11s/it]\n",
            "Dataset Entries:  99%|█████████▉| 369/373 [6:00:50<03:30, 52.62s/it]\n",
            "Dataset Entries:  99%|█████████▉| 370/373 [6:01:37<02:33, 51.04s/it]\n",
            "Dataset Entries:  99%|█████████▉| 371/373 [6:02:33<01:45, 52.55s/it]\n",
            "Dataset Entries: 100%|█████████▉| 372/373 [6:03:21<00:51, 51.12s/it]\n",
            "Dataset Entries: 100%|██████████| 373/373 [6:04:17<00:00, 52.48s/it]\n",
            "Dataset Entries: 100%|██████████| 373/373 [6:04:17<00:00, 58.60s/it]\n"
          ]
        },
        {
          "name": "stdout",
          "output_type": "stream",
          "text": [
            "\n",
            "Error code: 429 - {'error': {'message': 'Rate limit reached for gpt-3.5-turbo-0125 in organization org-otFZgKAMPWjPqQ9QYRXE5XAK on requests per day (RPD): Limit 10000, Used 10000, Requested 1. Please try again in 8.64s. Visit https://platform.openai.com/account/rate-limits to learn more.', 'type': 'requests', 'param': None, 'code': 'rate_limit_exceeded'}}\n",
            "Error code: 429 - {'error': {'message': 'Rate limit reached for gpt-3.5-turbo-0125 in organization org-otFZgKAMPWjPqQ9QYRXE5XAK on requests per day (RPD): Limit 10000, Used 10000, Requested 1. Please try again in 8.64s. Visit https://platform.openai.com/account/rate-limits to learn more.', 'type': 'requests', 'param': None, 'code': 'rate_limit_exceeded'}}\n",
            "Error code: 429 - {'error': {'message': 'Rate limit reached for gpt-3.5-turbo-0125 in organization org-otFZgKAMPWjPqQ9QYRXE5XAK on requests per day (RPD): Limit 10000, Used 10000, Requested 1. Please try again in 8.64s. Visit https://platform.openai.com/account/rate-limits to learn more.', 'type': 'requests', 'param': None, 'code': 'rate_limit_exceeded'}}\n",
            "Error code: 429 - {'error': {'message': 'Rate limit reached for gpt-3.5-turbo-0125 in organization org-otFZgKAMPWjPqQ9QYRXE5XAK on requests per day (RPD): Limit 10000, Used 10000, Requested 1. Please try again in 8.64s. Visit https://platform.openai.com/account/rate-limits to learn more.', 'type': 'requests', 'param': None, 'code': 'rate_limit_exceeded'}}\n",
            "Error code: 429 - {'error': {'message': 'Rate limit reached for gpt-3.5-turbo-0125 in organization org-otFZgKAMPWjPqQ9QYRXE5XAK on requests per day (RPD): Limit 10000, Used 10000, Requested 1. Please try again in 8.64s. Visit https://platform.openai.com/account/rate-limits to learn more.', 'type': 'requests', 'param': None, 'code': 'rate_limit_exceeded'}}\n",
            "Error code: 429 - {'error': {'message': 'Rate limit reached for gpt-3.5-turbo-0125 in organization org-otFZgKAMPWjPqQ9QYRXE5XAK on requests per day (RPD): Limit 10000, Used 10000, Requested 1. Please try again in 8.64s. Visit https://platform.openai.com/account/rate-limits to learn more.', 'type': 'requests', 'param': None, 'code': 'rate_limit_exceeded'}}\n",
            "Error code: 429 - {'error': {'message': 'Rate limit reached for gpt-3.5-turbo-0125 in organization org-otFZgKAMPWjPqQ9QYRXE5XAK on requests per day (RPD): Limit 10000, Used 10000, Requested 1. Please try again in 8.64s. Visit https://platform.openai.com/account/rate-limits to learn more.', 'type': 'requests', 'param': None, 'code': 'rate_limit_exceeded'}}\n",
            "Dataset generation complete, dataset contains 1744 entries\n",
            "Done saving dataset to file 'datasets\\trans-sts-gpt3.5-dataset.jsonl'\n"
          ]
        }
      ],
      "source": [
        "!python dino.py --output_dir datasets \\\n",
        "--task_file task_specs/trans-sts-x2-en-to-spa.json \\\n",
        "--input_file datasets/x1.txt \\\n",
        "--input_file_type plain \\\n",
        "--num_entries_per_input_and_label 2 \\\n",
        "--use_openai --chat_completions \\\n",
        "--model_name gpt-4-turbo \\\n",
        "--keep_outputs_without_eos \\\n",
        "--output_file_name trans-sts-en-to-spa-gpt3.5 \\\n",
        "--remove_duplicates \\\n",
        "--remove_identical_pairs"
      ]
    },
    {
      "cell_type": "markdown",
      "metadata": {
        "id": "dvAAupWYBbfJ"
      },
      "source": [
        "## Ablations/modifications:\n",
        "\n"
      ]
    },
    {
      "cell_type": "markdown",
      "metadata": {
        "id": "pnlXqztbBr3I"
      },
      "source": [
        "Generate with gpt3.5"
      ]
    },
    {
      "cell_type": "code",
      "execution_count": 30,
      "metadata": {
        "colab": {
          "base_uri": "https://localhost:8080/"
        },
        "id": "EuSWViKl-1M0",
        "outputId": "9c4c1f42-9d72-41c3-f21f-cc4d9a404bc0"
      },
      "outputs": [
        {
          "name": "stdout",
          "output_type": "stream",
          "text": [
            "Parameters: Namespace(output_dir='outputs', task_file='task_specs/sts-x1.json', model_name='gpt-3.5-turbo-0125', max_output_length=40, decay_constant=100, top_p=0.9, top_k=5, output_file_name='sts-x1-gpt3.5', input_file=None, input_file_type='plain', num_entries_per_input_and_label=None, num_entries_per_label=2, batch_size=1, remove_duplicates=True, remove_identical_pairs=False, keep_outputs_without_eos=True, allow_newlines_in_outputs=False, min_num_words=-1, min_num_tokens=-1, chat_completions=True, use_openai=True, no_cuda=False, seed=42, date='01/05/2024 02:55:10')\n",
            "Using OpenAI's (gpt-3.5-turbo-0125) as generator. The following parameters are ignored: ['decay_constant', 'top_k']\n",
            "Starting dataset generation with DINO...\n",
            "Dataset Entries: 100% 2/2 [00:03<00:00,  1.94s/it]\n",
            "Dataset generation complete, dataset contains 6 entries\n",
            "Done saving dataset to file 'outputs/sts-x1-gpt3.5-dataset.jsonl'\n"
          ]
        }
      ],
      "source": [
        "!python3 dino.py --output_dir outputs \\\n",
        "--task_file task_specs/sts-x1.json \\\n",
        "--num_entries_per_label 2 \\\n",
        "--batch_size 1 \\\n",
        "--use_openai \\\n",
        "--chat_completions \\\n",
        "--model_name gpt-3.5-turbo-0125 \\\n",
        "--keep_outputs_without_eos \\\n",
        "--output_file_name sts-x1-gpt3.5 \\\n",
        "--remove_duplicates"
      ]
    },
    {
      "cell_type": "code",
      "execution_count": 31,
      "metadata": {
        "colab": {
          "base_uri": "https://localhost:8080/"
        },
        "id": "K10veJoAwRC1",
        "outputId": "aff47af8-3c45-47a6-864f-d67a86166f2e"
      },
      "outputs": [
        {
          "name": "stdout",
          "output_type": "stream",
          "text": [
            "Parameters: Namespace(output_dir='outputs', task_file='task_specs/sts-x2.json', model_name='gpt-3.5-turbo-0125', max_output_length=40, decay_constant=100, top_p=0.9, top_k=5, output_file_name='sts-gpt3.5', input_file='outputs/sts-x1-gpt3.5-dataset.jsonl', input_file_type='jsonl', num_entries_per_input_and_label=2, num_entries_per_label=None, batch_size=None, remove_duplicates=True, remove_identical_pairs=True, keep_outputs_without_eos=True, allow_newlines_in_outputs=False, min_num_words=-1, min_num_tokens=-1, chat_completions=True, use_openai=True, no_cuda=False, seed=42, date='01/05/2024 02:55:18')\n",
            "Done loading 6 inputs from file 'outputs/sts-x1-gpt3.5-dataset.jsonl'\n",
            "Using OpenAI's (gpt-3.5-turbo-0125) as generator. The following parameters are ignored: ['decay_constant', 'top_k']\n",
            "Starting dataset generation with DINO...\n",
            "Dataset Entries: 100% 6/6 [00:22<00:00,  3.69s/it]\n",
            "Dataset generation complete, dataset contains 34 entries\n",
            "Done saving dataset to file 'outputs/sts-gpt3.5-dataset.jsonl'\n"
          ]
        }
      ],
      "source": [
        "!python3 dino.py --output_dir outputs \\\n",
        "--task_file task_specs/sts-x2.json \\\n",
        "--input_file outputs/sts-x1-gpt3.5-dataset.jsonl \\\n",
        "--input_file_type jsonl \\\n",
        "--num_entries_per_input_and_label 2 \\\n",
        "--use_openai \\\n",
        "--chat_completions \\\n",
        "--model_name gpt-3.5-turbo-0125 \\\n",
        "--keep_outputs_without_eos \\\n",
        "--output_file_name sts-gpt3.5 \\\n",
        "--remove_duplicates \\\n",
        "--remove_identical_pairs"
      ]
    }
  ],
  "metadata": {
    "accelerator": "GPU",
    "colab": {
      "gpuType": "L4",
      "machine_shape": "hm",
      "provenance": []
    },
    "kernelspec": {
      "display_name": "Python 3",
      "name": "python3"
    },
    "language_info": {
      "codemirror_mode": {
        "name": "ipython",
        "version": 3
      },
      "file_extension": ".py",
      "mimetype": "text/x-python",
      "name": "python",
      "nbconvert_exporter": "python",
      "pygments_lexer": "ipython3",
      "version": "3.8.5"
    }
  },
  "nbformat": 4,
  "nbformat_minor": 0
}
